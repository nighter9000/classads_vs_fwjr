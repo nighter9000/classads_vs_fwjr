{
 "cells": [
  {
   "cell_type": "code",
   "execution_count": 1,
   "metadata": {
    "ExecuteTime": {
     "end_time": "2019-09-24T18:42:24.173759Z",
     "start_time": "2019-09-24T18:42:21.055638Z"
    }
   },
   "outputs": [],
   "source": [
    "import json\n",
    "from collections import defaultdict\n",
    "import numpy as np\n",
    "import matplotlib.pyplot as plt\n",
    "import pyarrow.parquet as pq\n",
    "import pandas as pd\n",
    "import datetime\n",
    "#with open('Ethan.json') as json_file:\n",
    " #   data = json.load(json_file)\n",
    "from sklearn.externals.six import StringIO  \n",
    "from sklearn.tree import export_graphviz\n",
    "from sklearn.metrics import confusion_matrix\n",
    "import pydotplus\n",
    "from IPython.display import Image\n",
    "from sklearn.tree import DecisionTreeClassifier\n",
    "from sklearn.preprocessing import LabelEncoder\n"
   ]
  },
  {
   "cell_type": "code",
   "execution_count": 2,
   "metadata": {
    "ExecuteTime": {
     "end_time": "2019-09-24T18:42:34.187893Z",
     "start_time": "2019-09-24T18:42:24.176927Z"
    }
   },
   "outputs": [],
   "source": [
    "#Commence cleaning of data\n",
    "\n",
    "#big combo can easily be changed for various levels of interest\n",
    "fwjr = pd.read_parquet(\"fwjr_2018_1110_1115.parquet\")\n",
    "classads = pd.read_parquet(\"classAds_2018_1110_1114.parquet\")\n",
    "fwjr['CRAB_Id'] = fwjr['fwjr_id'].str.extract(r'([0-9]+)-[0-9]+') \n",
    "fwjr['CRAB_Retry'] = fwjr['fwjr_id'].str.extract(r'[0-9]+-([0-9])+') \n",
    "fwjr['Big_Combo'] = fwjr.task+fwjr.fwjr_id\n",
    "classads['Big_Combo'] = classads.CRAB_Workflow+classads['CRAB_Id']+'-'+classads['CRAB_Retry']"
   ]
  },
  {
   "cell_type": "code",
   "execution_count": 3,
   "metadata": {
    "ExecuteTime": {
     "end_time": "2019-09-24T18:42:43.341790Z",
     "start_time": "2019-09-24T18:42:34.190826Z"
    }
   },
   "outputs": [
    {
     "name": "stdout",
     "output_type": "stream",
     "text": [
      "1773993\n",
      "1773993\n",
      "1773993\n",
      "1183693\n",
      "1180174\n"
     ]
    }
   ],
   "source": [
    "\n",
    "#cleanads and fwjr have dropped the duplicates in Big_Combo\n",
    "print(len(classads))\n",
    "print(len(classads.drop_duplicates(subset = 'Big_Combo')))\n",
    "cleanads = classads.drop_duplicates(subset = 'Big_Combo')\n",
    "#cleanads = classads[classads.CRAB_Retry == '0']\n",
    "print(len(cleanads))\n",
    "\n",
    "print(len(fwjr))\n",
    "print(len(fwjr.drop_duplicates(subset = 'Big_Combo')))\n",
    "fwjr = fwjr.drop_duplicates(subset = 'Big_Combo')"
   ]
  },
  {
   "cell_type": "code",
   "execution_count": 4,
   "metadata": {
    "ExecuteTime": {
     "end_time": "2019-09-24T18:42:43.400769Z",
     "start_time": "2019-09-24T18:42:43.375834Z"
    }
   },
   "outputs": [],
   "source": [
    "#cleanads = cleanads[cleanads['CMS_TaskType'].notna()]\n",
    "#for i in cleanads:\n",
    "    #cleanads[i] = pd.to_numeric(cleanads[i],errors='ignore',downcast = 'float')"
   ]
  },
  {
   "cell_type": "code",
   "execution_count": 5,
   "metadata": {
    "ExecuteTime": {
     "end_time": "2019-09-24T18:42:47.021737Z",
     "start_time": "2019-09-24T18:42:43.414754Z"
    }
   },
   "outputs": [
    {
     "name": "stdout",
     "output_type": "stream",
     "text": [
      "1109407\n",
      "1773993\n",
      "0.625372817141894\n",
      "1180174\n"
     ]
    }
   ],
   "source": [
    "\n",
    "#creates the isboth category which is the target variable\n",
    "\n",
    "cleanads['isboth'] = np.where(cleanads['Big_Combo'].isin(fwjr['Big_Combo']), 1, 0)\n",
    "#cleanads = (cleanads.sort_values(by = ['isboth'],ascending = False)).reset_index()\n",
    "print(len(cleanads[cleanads.isboth == 1]))\n",
    "print(len(cleanads))\n",
    "print(len(cleanads[cleanads.isboth == 1])/len(cleanads))\n",
    "print(len(fwjr))\n",
    "\n",
    "\n",
    "fwjr['isboth'] = np.where(fwjr['Big_Combo'].isin(classads['Big_Combo']), 1, 0)\n"
   ]
  },
  {
   "cell_type": "code",
   "execution_count": 6,
   "metadata": {
    "ExecuteTime": {
     "end_time": "2019-09-24T18:42:49.178964Z",
     "start_time": "2019-09-24T18:42:47.023564Z"
    }
   },
   "outputs": [
    {
     "name": "stdout",
     "output_type": "stream",
     "text": [
      "[1541808000.0, 1541894400.0, 1541980800.0, 1542067200.0, 1542153600.0]\n",
      "[46.60795161582519, 64.64288745744169, 66.82185273159145, 70.19116912273017, 64.6189737581887]\n",
      "[358795, 212062, 515725, 292202, 395209]\n"
     ]
    }
   ],
   "source": [
    "\n",
    "#analyzes cleanads to make decision on dates for goodads\n",
    "dates = []\n",
    "shared = []\n",
    "length = []\n",
    "for i in cleanads.day.unique():\n",
    "    dates.append(i)\n",
    "    \n",
    "dates.sort()\n",
    "for i in dates:\n",
    "    shared.append(sum(cleanads[cleanads.day == i]['isboth'])/len(cleanads[cleanads.day == i])*100%100)\n",
    "    length.append(len(cleanads[cleanads.day == i]))\n",
    "print(dates)    \n",
    "print(shared)\n",
    "print(length)"
   ]
  },
  {
   "cell_type": "code",
   "execution_count": 7,
   "metadata": {
    "ExecuteTime": {
     "end_time": "2019-09-24T18:42:50.125640Z",
     "start_time": "2019-09-24T18:42:49.181957Z"
    }
   },
   "outputs": [
    {
     "name": "stdout",
     "output_type": "stream",
     "text": [
      "[1541548800, 1541635200, 1541721600, 1541808000, 1541894400, 1541980800, 1542067200, 1542153600, 1542240000]\n",
      "[0.0, 0.0, 0.0, 96.37532254281022, 95.45128979294995, 99.07334372986675, 99.84109569957073, 98.1514763536887, 35.801575203252035]\n",
      "[1, 1, 17, 106575, 181502, 332162, 229698, 251498, 78720]\n"
     ]
    }
   ],
   "source": [
    "\n",
    "#analyzes fwjr to make decision on dates for goodfwjr\n",
    "dates = []\n",
    "shared = []\n",
    "length = []\n",
    "for i in fwjr.day.unique():\n",
    "    dates.append(i)\n",
    "    \n",
    "dates.sort()\n",
    "for i in dates:\n",
    "    shared.append(sum(fwjr[fwjr.day == i]['isboth'])/len(fwjr[fwjr.day == i])*100%100)\n",
    "    length.append(len(fwjr[fwjr.day == i]))\n",
    "print(dates)    \n",
    "print(shared)\n",
    "print(length)"
   ]
  },
  {
   "cell_type": "code",
   "execution_count": 8,
   "metadata": {
    "ExecuteTime": {
     "end_time": "2019-09-24T18:42:59.849166Z",
     "start_time": "2019-09-24T18:42:50.128537Z"
    }
   },
   "outputs": [
    {
     "name": "stdout",
     "output_type": "stream",
     "text": [
      "Number of Unique Values in Each Field of FWJR:\n",
      "\n",
      "day                   5\n",
      "d_dataset_id       1570\n",
      "task               4252\n",
      "fwjr_id           52571\n",
      "host                 14\n",
      "files_read           82\n",
      "CRAB_Id            9644\n",
      "CRAB_Retry           10\n",
      "Big_Combo       1101435\n",
      "isboth                2\n",
      "dtype: int64\n",
      "\n",
      "Number of Unique Values in Each Field of Shared:\n",
      "\n"
     ]
    },
    {
     "name": "stderr",
     "output_type": "stream",
     "text": [
      "/Users/ethangreen/anaconda3/lib/python3.7/site-packages/ipykernel_launcher.py:7: UserWarning: Boolean Series key will be reindexed to match DataFrame index.\n",
      "  import sys\n"
     ]
    },
    {
     "name": "stdout",
     "output_type": "stream",
     "text": [
      "CMS_TaskType          0\n",
      "RecordTime       205847\n",
      "day                   4\n",
      "d_dataset_id       1120\n",
      "CRAB_Workflow      2590\n",
      "CRAB_Id           13684\n",
      "CRAB_Retry           53\n",
      "CRAB_UserHN         167\n",
      "Campaign            167\n",
      "ErrorType             0\n",
      "RequestCpus           3\n",
      "ScheddName           14\n",
      "WallClockHr       41001\n",
      "Status                2\n",
      "Big_Combo        473018\n",
      "isboth                1\n",
      "dtype: int64\n",
      "\n",
      "Number of Unique Values in Each Field of Cleanads:\n",
      "\n",
      "CMS_TaskType           0\n",
      "RecordTime        318180\n",
      "day                    4\n",
      "d_dataset_id        1550\n",
      "CRAB_Workflow       4353\n",
      "CRAB_Id            15151\n",
      "CRAB_Retry            53\n",
      "CRAB_UserHN          188\n",
      "Campaign             188\n",
      "ErrorType              0\n",
      "RequestCpus            3\n",
      "ScheddName            15\n",
      "WallClockHr        66165\n",
      "Status                 2\n",
      "Big_Combo        1415198\n",
      "isboth                 2\n",
      "dtype: int64\n"
     ]
    }
   ],
   "source": [
    "#first analysis step not cleaning up\n",
    "\n",
    "print('Number of Unique Values in Each Field of FWJR:\\n')\n",
    "print(fwjr[fwjr.day.isin([1541808000, 1541894400, 1541980800, 1542067200, 1542153600])].nunique())\n",
    "print('')\n",
    "print('Number of Unique Values in Each Field of Shared:\\n')\n",
    "print(cleanads[cleanads.isboth == 0][cleanads.day.isin([1541894400.0, 1541980800.0, 1542067200.0, 1542153600.0])].nunique())\n",
    "print('')\n",
    "print('Number of Unique Values in Each Field of Cleanads:\\n')\n",
    "print(cleanads[cleanads.day.isin([1541894400.0, 1541980800.0, 1542067200.0, 1542153600.0])].nunique())"
   ]
  },
  {
   "cell_type": "code",
   "execution_count": 9,
   "metadata": {
    "ExecuteTime": {
     "end_time": "2019-09-24T18:42:59.885983Z",
     "start_time": "2019-09-24T18:42:59.852080Z"
    }
   },
   "outputs": [
    {
     "data": {
      "text/html": [
       "<div>\n",
       "<style scoped>\n",
       "    .dataframe tbody tr th:only-of-type {\n",
       "        vertical-align: middle;\n",
       "    }\n",
       "\n",
       "    .dataframe tbody tr th {\n",
       "        vertical-align: top;\n",
       "    }\n",
       "\n",
       "    .dataframe thead th {\n",
       "        text-align: right;\n",
       "    }\n",
       "</style>\n",
       "<table border=\"1\" class=\"dataframe\">\n",
       "  <thead>\n",
       "    <tr style=\"text-align: right;\">\n",
       "      <th></th>\n",
       "      <th>CMS_TaskType</th>\n",
       "      <th>RecordTime</th>\n",
       "      <th>day</th>\n",
       "      <th>d_dataset_id</th>\n",
       "      <th>CRAB_Workflow</th>\n",
       "      <th>CRAB_Id</th>\n",
       "      <th>CRAB_Retry</th>\n",
       "      <th>CRAB_UserHN</th>\n",
       "      <th>Campaign</th>\n",
       "      <th>ErrorType</th>\n",
       "      <th>RequestCpus</th>\n",
       "      <th>ScheddName</th>\n",
       "      <th>WallClockHr</th>\n",
       "      <th>Status</th>\n",
       "      <th>Big_Combo</th>\n",
       "      <th>isboth</th>\n",
       "    </tr>\n",
       "  </thead>\n",
       "  <tbody>\n",
       "    <tr>\n",
       "      <th>0</th>\n",
       "      <td>None</td>\n",
       "      <td>1542002390000</td>\n",
       "      <td>1.541981e+09</td>\n",
       "      <td>13304950</td>\n",
       "      <td>181022_135145:dpgilber_crab_miniaod_94x_ttsl_f...</td>\n",
       "      <td>93</td>\n",
       "      <td>4</td>\n",
       "      <td>dpgilber</td>\n",
       "      <td>crab_dpgilber</td>\n",
       "      <td>None</td>\n",
       "      <td>8</td>\n",
       "      <td>crab3@vocms0197.cern.ch</td>\n",
       "      <td>3.7063888888888887</td>\n",
       "      <td>Completed</td>\n",
       "      <td>181022_135145:dpgilber_crab_miniaod_94x_ttsl_f...</td>\n",
       "      <td>1</td>\n",
       "    </tr>\n",
       "    <tr>\n",
       "      <th>1</th>\n",
       "      <td>None</td>\n",
       "      <td>1541990466000</td>\n",
       "      <td>1.541981e+09</td>\n",
       "      <td>13293064</td>\n",
       "      <td>181022_140525:dpgilber_crab_miniaod_94x_ttsl_z...</td>\n",
       "      <td>218</td>\n",
       "      <td>6</td>\n",
       "      <td>dpgilber</td>\n",
       "      <td>crab_dpgilber</td>\n",
       "      <td>None</td>\n",
       "      <td>8</td>\n",
       "      <td>crab3@vocms0144.cern.ch</td>\n",
       "      <td>4.1322222222222225</td>\n",
       "      <td>Completed</td>\n",
       "      <td>181022_140525:dpgilber_crab_miniaod_94x_ttsl_z...</td>\n",
       "      <td>1</td>\n",
       "    </tr>\n",
       "    <tr>\n",
       "      <th>2</th>\n",
       "      <td>None</td>\n",
       "      <td>1542211835000</td>\n",
       "      <td>1.542154e+09</td>\n",
       "      <td>13293064</td>\n",
       "      <td>181022_140525:dpgilber_crab_miniaod_94x_ttsl_z...</td>\n",
       "      <td>77</td>\n",
       "      <td>7</td>\n",
       "      <td>dpgilber</td>\n",
       "      <td>crab_dpgilber</td>\n",
       "      <td>None</td>\n",
       "      <td>8</td>\n",
       "      <td>crab3@vocms0144.cern.ch</td>\n",
       "      <td>4.835277777777778</td>\n",
       "      <td>Completed</td>\n",
       "      <td>181022_140525:dpgilber_crab_miniaod_94x_ttsl_z...</td>\n",
       "      <td>1</td>\n",
       "    </tr>\n",
       "    <tr>\n",
       "      <th>3</th>\n",
       "      <td>None</td>\n",
       "      <td>1541967781000</td>\n",
       "      <td>1.541894e+09</td>\n",
       "      <td>13293064</td>\n",
       "      <td>181022_140525:dpgilber_crab_miniaod_94x_ttsl_z...</td>\n",
       "      <td>125</td>\n",
       "      <td>9</td>\n",
       "      <td>dpgilber</td>\n",
       "      <td>crab_dpgilber</td>\n",
       "      <td>None</td>\n",
       "      <td>8</td>\n",
       "      <td>crab3@vocms0144.cern.ch</td>\n",
       "      <td>5.868333333333333</td>\n",
       "      <td>Completed</td>\n",
       "      <td>181022_140525:dpgilber_crab_miniaod_94x_ttsl_z...</td>\n",
       "      <td>1</td>\n",
       "    </tr>\n",
       "    <tr>\n",
       "      <th>4</th>\n",
       "      <td>None</td>\n",
       "      <td>1541859310000</td>\n",
       "      <td>1.541808e+09</td>\n",
       "      <td>13306621</td>\n",
       "      <td>181022_143003:dpgilber_crab_miniaod_94x_wjets_...</td>\n",
       "      <td>16</td>\n",
       "      <td>3</td>\n",
       "      <td>dpgilber</td>\n",
       "      <td>crab_dpgilber</td>\n",
       "      <td>None</td>\n",
       "      <td>8</td>\n",
       "      <td>crab3@vocms0107.cern.ch</td>\n",
       "      <td>3.6013888888888888</td>\n",
       "      <td>Completed</td>\n",
       "      <td>181022_143003:dpgilber_crab_miniaod_94x_wjets_...</td>\n",
       "      <td>1</td>\n",
       "    </tr>\n",
       "  </tbody>\n",
       "</table>\n",
       "</div>"
      ],
      "text/plain": [
       "  CMS_TaskType     RecordTime           day  d_dataset_id  \\\n",
       "0         None  1542002390000  1.541981e+09      13304950   \n",
       "1         None  1541990466000  1.541981e+09      13293064   \n",
       "2         None  1542211835000  1.542154e+09      13293064   \n",
       "3         None  1541967781000  1.541894e+09      13293064   \n",
       "4         None  1541859310000  1.541808e+09      13306621   \n",
       "\n",
       "                                       CRAB_Workflow CRAB_Id CRAB_Retry  \\\n",
       "0  181022_135145:dpgilber_crab_miniaod_94x_ttsl_f...      93          4   \n",
       "1  181022_140525:dpgilber_crab_miniaod_94x_ttsl_z...     218          6   \n",
       "2  181022_140525:dpgilber_crab_miniaod_94x_ttsl_z...      77          7   \n",
       "3  181022_140525:dpgilber_crab_miniaod_94x_ttsl_z...     125          9   \n",
       "4  181022_143003:dpgilber_crab_miniaod_94x_wjets_...      16          3   \n",
       "\n",
       "  CRAB_UserHN       Campaign ErrorType RequestCpus               ScheddName  \\\n",
       "0    dpgilber  crab_dpgilber      None           8  crab3@vocms0197.cern.ch   \n",
       "1    dpgilber  crab_dpgilber      None           8  crab3@vocms0144.cern.ch   \n",
       "2    dpgilber  crab_dpgilber      None           8  crab3@vocms0144.cern.ch   \n",
       "3    dpgilber  crab_dpgilber      None           8  crab3@vocms0144.cern.ch   \n",
       "4    dpgilber  crab_dpgilber      None           8  crab3@vocms0107.cern.ch   \n",
       "\n",
       "          WallClockHr     Status  \\\n",
       "0  3.7063888888888887  Completed   \n",
       "1  4.1322222222222225  Completed   \n",
       "2   4.835277777777778  Completed   \n",
       "3   5.868333333333333  Completed   \n",
       "4  3.6013888888888888  Completed   \n",
       "\n",
       "                                           Big_Combo  isboth  \n",
       "0  181022_135145:dpgilber_crab_miniaod_94x_ttsl_f...       1  \n",
       "1  181022_140525:dpgilber_crab_miniaod_94x_ttsl_z...       1  \n",
       "2  181022_140525:dpgilber_crab_miniaod_94x_ttsl_z...       1  \n",
       "3  181022_140525:dpgilber_crab_miniaod_94x_ttsl_z...       1  \n",
       "4  181022_143003:dpgilber_crab_miniaod_94x_wjets_...       1  "
      ]
     },
     "execution_count": 9,
     "metadata": {},
     "output_type": "execute_result"
    }
   ],
   "source": [
    "cleanads.head()"
   ]
  },
  {
   "cell_type": "code",
   "execution_count": 10,
   "metadata": {
    "ExecuteTime": {
     "end_time": "2019-09-24T18:42:59.909554Z",
     "start_time": "2019-09-24T18:42:59.888977Z"
    }
   },
   "outputs": [
    {
     "data": {
      "text/html": [
       "<div>\n",
       "<style scoped>\n",
       "    .dataframe tbody tr th:only-of-type {\n",
       "        vertical-align: middle;\n",
       "    }\n",
       "\n",
       "    .dataframe tbody tr th {\n",
       "        vertical-align: top;\n",
       "    }\n",
       "\n",
       "    .dataframe thead th {\n",
       "        text-align: right;\n",
       "    }\n",
       "</style>\n",
       "<table border=\"1\" class=\"dataframe\">\n",
       "  <thead>\n",
       "    <tr style=\"text-align: right;\">\n",
       "      <th></th>\n",
       "      <th>day</th>\n",
       "      <th>d_dataset_id</th>\n",
       "      <th>task</th>\n",
       "      <th>fwjr_id</th>\n",
       "      <th>host</th>\n",
       "      <th>files_read</th>\n",
       "      <th>CRAB_Id</th>\n",
       "      <th>CRAB_Retry</th>\n",
       "      <th>Big_Combo</th>\n",
       "      <th>isboth</th>\n",
       "    </tr>\n",
       "  </thead>\n",
       "  <tbody>\n",
       "    <tr>\n",
       "      <th>0</th>\n",
       "      <td>1542153600</td>\n",
       "      <td>13289820</td>\n",
       "      <td>181113_162805:mthiel_crab_QCD_Pt_800_Moriond_3</td>\n",
       "      <td>3-0</td>\n",
       "      <td>vocms0137.cern.ch</td>\n",
       "      <td>8</td>\n",
       "      <td>3</td>\n",
       "      <td>0</td>\n",
       "      <td>181113_162805:mthiel_crab_QCD_Pt_800_Moriond_33-0</td>\n",
       "      <td>1</td>\n",
       "    </tr>\n",
       "    <tr>\n",
       "      <th>1</th>\n",
       "      <td>1542153600</td>\n",
       "      <td>13289820</td>\n",
       "      <td>181113_162805:mthiel_crab_QCD_Pt_800_Moriond_3</td>\n",
       "      <td>1-14-0</td>\n",
       "      <td>vocms0137.cern.ch</td>\n",
       "      <td>4</td>\n",
       "      <td>1</td>\n",
       "      <td>4</td>\n",
       "      <td>181113_162805:mthiel_crab_QCD_Pt_800_Moriond_3...</td>\n",
       "      <td>1</td>\n",
       "    </tr>\n",
       "    <tr>\n",
       "      <th>2</th>\n",
       "      <td>1542153600</td>\n",
       "      <td>13289820</td>\n",
       "      <td>181113_162805:mthiel_crab_QCD_Pt_800_Moriond_3</td>\n",
       "      <td>1-13-0</td>\n",
       "      <td>vocms0137.cern.ch</td>\n",
       "      <td>3</td>\n",
       "      <td>1</td>\n",
       "      <td>3</td>\n",
       "      <td>181113_162805:mthiel_crab_QCD_Pt_800_Moriond_3...</td>\n",
       "      <td>1</td>\n",
       "    </tr>\n",
       "    <tr>\n",
       "      <th>3</th>\n",
       "      <td>1542153600</td>\n",
       "      <td>13289820</td>\n",
       "      <td>181113_162805:mthiel_crab_QCD_Pt_800_Moriond_3</td>\n",
       "      <td>1-11-0</td>\n",
       "      <td>vocms0137.cern.ch</td>\n",
       "      <td>3</td>\n",
       "      <td>1</td>\n",
       "      <td>1</td>\n",
       "      <td>181113_162805:mthiel_crab_QCD_Pt_800_Moriond_3...</td>\n",
       "      <td>1</td>\n",
       "    </tr>\n",
       "    <tr>\n",
       "      <th>4</th>\n",
       "      <td>1542153600</td>\n",
       "      <td>13289820</td>\n",
       "      <td>181113_162805:mthiel_crab_QCD_Pt_800_Moriond_3</td>\n",
       "      <td>4-0</td>\n",
       "      <td>vocms0137.cern.ch</td>\n",
       "      <td>9</td>\n",
       "      <td>4</td>\n",
       "      <td>0</td>\n",
       "      <td>181113_162805:mthiel_crab_QCD_Pt_800_Moriond_34-0</td>\n",
       "      <td>1</td>\n",
       "    </tr>\n",
       "  </tbody>\n",
       "</table>\n",
       "</div>"
      ],
      "text/plain": [
       "          day  d_dataset_id                                            task  \\\n",
       "0  1542153600      13289820  181113_162805:mthiel_crab_QCD_Pt_800_Moriond_3   \n",
       "1  1542153600      13289820  181113_162805:mthiel_crab_QCD_Pt_800_Moriond_3   \n",
       "2  1542153600      13289820  181113_162805:mthiel_crab_QCD_Pt_800_Moriond_3   \n",
       "3  1542153600      13289820  181113_162805:mthiel_crab_QCD_Pt_800_Moriond_3   \n",
       "4  1542153600      13289820  181113_162805:mthiel_crab_QCD_Pt_800_Moriond_3   \n",
       "\n",
       "  fwjr_id               host  files_read CRAB_Id CRAB_Retry  \\\n",
       "0     3-0  vocms0137.cern.ch           8       3          0   \n",
       "1  1-14-0  vocms0137.cern.ch           4       1          4   \n",
       "2  1-13-0  vocms0137.cern.ch           3       1          3   \n",
       "3  1-11-0  vocms0137.cern.ch           3       1          1   \n",
       "4     4-0  vocms0137.cern.ch           9       4          0   \n",
       "\n",
       "                                           Big_Combo  isboth  \n",
       "0  181113_162805:mthiel_crab_QCD_Pt_800_Moriond_33-0       1  \n",
       "1  181113_162805:mthiel_crab_QCD_Pt_800_Moriond_3...       1  \n",
       "2  181113_162805:mthiel_crab_QCD_Pt_800_Moriond_3...       1  \n",
       "3  181113_162805:mthiel_crab_QCD_Pt_800_Moriond_3...       1  \n",
       "4  181113_162805:mthiel_crab_QCD_Pt_800_Moriond_34-0       1  "
      ]
     },
     "execution_count": 10,
     "metadata": {},
     "output_type": "execute_result"
    }
   ],
   "source": [
    "fwjr.head()"
   ]
  },
  {
   "cell_type": "code",
   "execution_count": 11,
   "metadata": {
    "ExecuteTime": {
     "end_time": "2019-09-24T18:43:00.305096Z",
     "start_time": "2019-09-24T18:42:59.927193Z"
    }
   },
   "outputs": [],
   "source": [
    "#cleaning again\n",
    "#the Campaign column is just a copy of the CRAB_UserHN column but starting with 'crab_' \n",
    "cleanads = cleanads.drop(['Campaign','CMS_TaskType','ErrorType'],axis = 1)"
   ]
  },
  {
   "cell_type": "code",
   "execution_count": 12,
   "metadata": {
    "ExecuteTime": {
     "end_time": "2019-09-24T18:43:01.664458Z",
     "start_time": "2019-09-24T18:43:00.307704Z"
    }
   },
   "outputs": [
    {
     "name": "stdout",
     "output_type": "stream",
     "text": [
      "1773993\n",
      "2\n"
     ]
    },
    {
     "name": "stderr",
     "output_type": "stream",
     "text": [
      "/Users/ethangreen/anaconda3/lib/python3.7/site-packages/ipykernel_launcher.py:5: UserWarning: Boolean Series key will be reindexed to match DataFrame index.\n",
      "  \"\"\"\n"
     ]
    }
   ],
   "source": [
    "print(len(cleanads))\n",
    "print(sum(cleanads[cleanads.Status == 'Removed'].isboth))\n",
    "#place the set of good days in the arrays. done at user discression \n",
    "goodfwjr = fwjr[fwjr.day.isin([1541808000, 1541894400, 1541980800, 1542067200, 1542153600])]\n",
    "goodads = cleanads[cleanads.day.isin([1541894400.0, 1541980800.0, 1542067200.0, 1542153600.0])][cleanads.Status == 'Completed']"
   ]
  },
  {
   "cell_type": "code",
   "execution_count": 13,
   "metadata": {
    "ExecuteTime": {
     "end_time": "2019-09-24T18:43:01.744945Z",
     "start_time": "2019-09-24T18:43:01.667093Z"
    }
   },
   "outputs": [
    {
     "name": "stdout",
     "output_type": "stream",
     "text": [
      "Classads perspective:\n",
      "0.6657593699233956\n",
      "FWJR perspective:\n",
      "0.9816503016519359\n"
     ]
    }
   ],
   "source": [
    "#original percentage in both\n",
    "print('Classads perspective:')\n",
    "print(sum(goodads.isboth)/len(goodads))\n",
    "print('FWJR perspective:')\n",
    "print(sum(goodfwjr.isboth)/len(goodfwjr))"
   ]
  },
  {
   "cell_type": "code",
   "execution_count": 14,
   "metadata": {
    "ExecuteTime": {
     "end_time": "2019-09-24T18:43:02.039422Z",
     "start_time": "2019-09-24T18:43:01.748936Z"
    }
   },
   "outputs": [
    {
     "ename": "AttributeError",
     "evalue": "'DataFrame' object has no attribute 'ErrorType'",
     "output_type": "error",
     "traceback": [
      "\u001b[0;31m---------------------------------------------------------------------------\u001b[0m",
      "\u001b[0;31mAttributeError\u001b[0m                            Traceback (most recent call last)",
      "\u001b[0;32m<ipython-input-14-7fa20282bd5f>\u001b[0m in \u001b[0;36m<module>\u001b[0;34m\u001b[0m\n\u001b[0;32m----> 1\u001b[0;31m \u001b[0;32mfor\u001b[0m \u001b[0mi\u001b[0m \u001b[0;32min\u001b[0m \u001b[0mcleanads\u001b[0m\u001b[0;34m.\u001b[0m\u001b[0mErrorType\u001b[0m\u001b[0;34m.\u001b[0m\u001b[0munique\u001b[0m\u001b[0;34m(\u001b[0m\u001b[0;34m)\u001b[0m\u001b[0;34m.\u001b[0m\u001b[0mtolist\u001b[0m\u001b[0;34m(\u001b[0m\u001b[0;34m)\u001b[0m\u001b[0;34m:\u001b[0m\u001b[0;34m\u001b[0m\u001b[0;34m\u001b[0m\u001b[0m\n\u001b[0m\u001b[1;32m      2\u001b[0m     \u001b[0mprint\u001b[0m\u001b[0;34m(\u001b[0m\u001b[0mi\u001b[0m\u001b[0;34m)\u001b[0m\u001b[0;34m\u001b[0m\u001b[0;34m\u001b[0m\u001b[0m\n\u001b[1;32m      3\u001b[0m     \u001b[0mprint\u001b[0m\u001b[0;34m(\u001b[0m\u001b[0msum\u001b[0m\u001b[0;34m(\u001b[0m\u001b[0mgoodads\u001b[0m\u001b[0;34m[\u001b[0m\u001b[0mgoodads\u001b[0m\u001b[0;34m.\u001b[0m\u001b[0mErrorType\u001b[0m \u001b[0;34m==\u001b[0m \u001b[0mi\u001b[0m\u001b[0;34m]\u001b[0m\u001b[0;34m.\u001b[0m\u001b[0misboth\u001b[0m\u001b[0;34m)\u001b[0m\u001b[0;34m/\u001b[0m\u001b[0mlen\u001b[0m\u001b[0;34m(\u001b[0m\u001b[0mgoodads\u001b[0m\u001b[0;34m[\u001b[0m\u001b[0mgoodads\u001b[0m\u001b[0;34m.\u001b[0m\u001b[0mErrorType\u001b[0m \u001b[0;34m==\u001b[0m \u001b[0mi\u001b[0m\u001b[0;34m]\u001b[0m\u001b[0;34m)\u001b[0m\u001b[0;34m)\u001b[0m\u001b[0;34m\u001b[0m\u001b[0;34m\u001b[0m\u001b[0m\n\u001b[1;32m      4\u001b[0m     \u001b[0mprint\u001b[0m\u001b[0;34m(\u001b[0m\u001b[0mlen\u001b[0m\u001b[0;34m(\u001b[0m\u001b[0mgoodads\u001b[0m\u001b[0;34m[\u001b[0m\u001b[0mgoodads\u001b[0m\u001b[0;34m.\u001b[0m\u001b[0mErrorType\u001b[0m \u001b[0;34m==\u001b[0m \u001b[0mi\u001b[0m\u001b[0;34m]\u001b[0m\u001b[0;34m.\u001b[0m\u001b[0misboth\u001b[0m\u001b[0;34m)\u001b[0m\u001b[0;34m)\u001b[0m\u001b[0;34m\u001b[0m\u001b[0;34m\u001b[0m\u001b[0m\n",
      "\u001b[0;32m~/anaconda3/lib/python3.7/site-packages/pandas/core/generic.py\u001b[0m in \u001b[0;36m__getattr__\u001b[0;34m(self, name)\u001b[0m\n\u001b[1;32m   4374\u001b[0m             \u001b[0;32mif\u001b[0m \u001b[0mself\u001b[0m\u001b[0;34m.\u001b[0m\u001b[0m_info_axis\u001b[0m\u001b[0;34m.\u001b[0m\u001b[0m_can_hold_identifiers_and_holds_name\u001b[0m\u001b[0;34m(\u001b[0m\u001b[0mname\u001b[0m\u001b[0;34m)\u001b[0m\u001b[0;34m:\u001b[0m\u001b[0;34m\u001b[0m\u001b[0;34m\u001b[0m\u001b[0m\n\u001b[1;32m   4375\u001b[0m                 \u001b[0;32mreturn\u001b[0m \u001b[0mself\u001b[0m\u001b[0;34m[\u001b[0m\u001b[0mname\u001b[0m\u001b[0;34m]\u001b[0m\u001b[0;34m\u001b[0m\u001b[0;34m\u001b[0m\u001b[0m\n\u001b[0;32m-> 4376\u001b[0;31m             \u001b[0;32mreturn\u001b[0m \u001b[0mobject\u001b[0m\u001b[0;34m.\u001b[0m\u001b[0m__getattribute__\u001b[0m\u001b[0;34m(\u001b[0m\u001b[0mself\u001b[0m\u001b[0;34m,\u001b[0m \u001b[0mname\u001b[0m\u001b[0;34m)\u001b[0m\u001b[0;34m\u001b[0m\u001b[0;34m\u001b[0m\u001b[0m\n\u001b[0m\u001b[1;32m   4377\u001b[0m \u001b[0;34m\u001b[0m\u001b[0m\n\u001b[1;32m   4378\u001b[0m     \u001b[0;32mdef\u001b[0m \u001b[0m__setattr__\u001b[0m\u001b[0;34m(\u001b[0m\u001b[0mself\u001b[0m\u001b[0;34m,\u001b[0m \u001b[0mname\u001b[0m\u001b[0;34m,\u001b[0m \u001b[0mvalue\u001b[0m\u001b[0;34m)\u001b[0m\u001b[0;34m:\u001b[0m\u001b[0;34m\u001b[0m\u001b[0;34m\u001b[0m\u001b[0m\n",
      "\u001b[0;31mAttributeError\u001b[0m: 'DataFrame' object has no attribute 'ErrorType'"
     ]
    }
   ],
   "source": [
    "for i in cleanads.ErrorType.unique().tolist():\n",
    "    print(i)\n",
    "    print(sum(goodads[goodads.ErrorType == i].isboth)/len(goodads[goodads.ErrorType == i]))\n",
    "    print(len(goodads[goodads.ErrorType == i].isboth))"
   ]
  },
  {
   "cell_type": "code",
   "execution_count": null,
   "metadata": {
    "ExecuteTime": {
     "end_time": "2019-09-24T18:43:02.054259Z",
     "start_time": "2019-09-24T18:42:21.123Z"
    }
   },
   "outputs": [],
   "source": [
    "#last basic cleaning step\n",
    "#Removes all errors\n",
    "print('Classads false negative percentage removed:')\n",
    "print(sum(goodads[goodads.ErrorType != 'Success'].isboth)/len(goodads[goodads.ErrorType == 'Success']))\n",
    "goodads = goodads[goodads.ErrorType == 'Success']\n",
    "print('Percent good with errors removed')\n",
    "print(sum(goodads.isboth)/len(goodads))\n",
    "#goodads = goodads[~goodads.CRAB_Workflow.isin(badworkflow)]"
   ]
  },
  {
   "cell_type": "code",
   "execution_count": null,
   "metadata": {
    "ExecuteTime": {
     "end_time": "2019-09-24T18:43:02.056207Z",
     "start_time": "2019-09-24T18:42:21.126Z"
    }
   },
   "outputs": [],
   "source": [
    "print(sum(goodads[goodads.ScheddName == 'crab3@vocms0196.cern.ch'].isboth)/len(goodads[goodads.ScheddName == 'crab3@vocms0196.cern.ch']))\n",
    "print(len(goodads[goodads.ScheddName == 'crab3@vocms0196.cern.ch']))\n",
    "\n",
    "goodads = goodads[goodads.ScheddName != 'crab3@vocms0196.cern.ch']\n",
    "print('Percent good with errors removed')\n",
    "print(sum(goodads.isboth)/len(goodads))\n",
    "print(len(goodads))"
   ]
  },
  {
   "cell_type": "code",
   "execution_count": null,
   "metadata": {
    "ExecuteTime": {
     "end_time": "2019-09-24T18:43:02.058005Z",
     "start_time": "2019-09-24T18:42:21.130Z"
    },
    "scrolled": false
   },
   "outputs": [],
   "source": [
    "#my algorithm starting with goodads\n",
    "\n",
    "#creates an array for each field in the dataframe\n",
    "#each value in the array represents a unique value in that field\n",
    "#outputs the standard deviation then the mean of this array\n",
    "#these numbers can be used to tell how useful each field should be for seperating based on isboth\n",
    "#a useful field is one with a lower standard deviation and a higher mean\n",
    "#Note: All values in the array are between 0 and 0.5 so the closer the second number is to 0.5,\n",
    "#     the better that field should be as a predictor.\n",
    "\n",
    "#iterates through fields in goodads\n",
    "for field in goodads:\n",
    "    #creates and refreshes an array for each field\n",
    "    prayer = []\n",
    "    weight = []\n",
    "    #skips to the next field if the current one has too many unique values for the code to run quickly\n",
    "    if len(goodads[field].unique())>5000:\n",
    "        print(len(goodads[field].unique()))\n",
    "        continue\n",
    "    #iterates through unique values of the field we are looking at.\n",
    "    for i in goodads[field].unique().tolist():\n",
    "        #not sure why but sometimes there arent actually any jobs with a certain value that comes up\n",
    "        #we have to skip these values to avoid division by zero in the next step\n",
    "        if len(goodads[goodads[field] == i]['isboth']) == 0:\n",
    "            continue\n",
    "        #creates a value for the array equal to the absolute value of 0.5 - x\n",
    "        #where x is the precentage of jobs in both with with one particular value in the current fields\n",
    "        newval = abs(0.5-sum(goodads[goodads[field] == i]['isboth'])/len(goodads[goodads[field] == i]['isboth']))\n",
    "        weight.append(len(goodads[field] == i))\n",
    "        prayer.append(newval)\n",
    "    #print the field name, standard deviation of usefulness array,  \n",
    "    #mean of usefulness array, and number of unique values in the field\n",
    "    print(field)\n",
    "    print(np.std(prayer))\n",
    "    #print(np.average(prayer,weights = weight))\n",
    "    print(np.average(prayer))\n",
    "    print(len(goodads[field].unique()))\n",
    "    "
   ]
  },
  {
   "cell_type": "code",
   "execution_count": null,
   "metadata": {
    "ExecuteTime": {
     "end_time": "2019-09-24T18:43:02.060271Z",
     "start_time": "2019-09-24T18:42:21.133Z"
    },
    "scrolled": true
   },
   "outputs": [],
   "source": [
    "\n",
    "\n",
    "#Creates an array of bad workflow to be removed from the set\n",
    "\n",
    "badworkflow = []\n",
    "#iterates through unique values of the desired field, in this case 'workflow'\n",
    "for i in goodads.CRAB_Workflow.unique().tolist():    \n",
    "    #seperates good workflow from bad workflow by skipping any workflow for which more than \n",
    "    #half the jobs are in both\n",
    "    if sum(goodads[goodads.CRAB_Workflow == i].isboth)/len(goodads[goodads.CRAB_Workflow == i].isboth)>= .3:\n",
    "        continue\n",
    "    #print(i)\n",
    "    #print(len(goodads[goodads.CRAB_Workflow == i].isboth))\n",
    "    #adds the badworkflow to the array\n",
    "    badworkflow.append(i)\n",
    "print(len(badworkflow))\n",
    "print(len(goodads.CRAB_Workflow.unique().tolist()))"
   ]
  },
  {
   "cell_type": "code",
   "execution_count": null,
   "metadata": {
    "ExecuteTime": {
     "end_time": "2019-09-24T18:43:02.062267Z",
     "start_time": "2019-09-24T18:42:21.137Z"
    }
   },
   "outputs": [],
   "source": [
    "\n",
    "#not enough jobs per id for this to be a valid method\n",
    "\n",
    "#Creates an array of bad Id's to be removed from the set\n",
    "\n",
    "badid = []\n",
    "#iterates through unique values of the desired field, in this case 'task'\n",
    "for i in goodads.CRAB_Id.unique().tolist():    \n",
    "    continue\n",
    "    #seperates good tasks from bad tasks by skipping any tasks for which more than \n",
    "    #half the jobs are in both\n",
    "    if sum(goodads[goodads.CRAB_Id == i].isboth)/len(goodads[goodads.CRAB_Id == i].isboth)> 0.5:\n",
    "        continue\n",
    "    #print(i)\n",
    "    #print(sum(goodads[goodads.CRAB_Id == i].isboth)/len(goodads[goodads.CRAB_Id == i].isboth))\n",
    "    print(len(goodads[goodads.CRAB_Id == i].isboth))\n",
    "    #adds the badtasks to the array\n",
    "    badworkflow.append(i)\n"
   ]
  },
  {
   "cell_type": "code",
   "execution_count": null,
   "metadata": {
    "ExecuteTime": {
     "end_time": "2019-09-24T18:43:02.065282Z",
     "start_time": "2019-09-24T18:42:21.140Z"
    }
   },
   "outputs": [],
   "source": [
    "\n",
    "#Retry is not useful, only one of them actually has less than like 80% good jobs\n",
    "# and that retry holds a single job\n",
    "#Creates an array of bad retry to be removed from the set\n",
    "\n",
    "badretry = []\n",
    "#iterates through unique values of the desired field, in this case 'task'\n",
    "for i in goodads.CRAB_Retry.unique().tolist():\n",
    "    continue\n",
    "    #seperates good tasks from bad tasks by skipping any tasks for which more than \n",
    "    #half the jobs are in both\n",
    "    if sum(goodads[goodads.CRAB_Retry == i].isboth)/len(goodads[goodads.CRAB_Retry == i].isboth)> 0.5:\n",
    "        print(i)\n",
    "        print(len(goodads[goodads.CRAB_Retry == i].isboth))\n",
    "        print(sum(goodads[goodads.CRAB_Retry == i].isboth)/len(goodads[goodads.CRAB_Retry == i].isboth))\n",
    "        continue\n",
    "    print(i)\n",
    "    print(len(goodads[goodads.CRAB_Retry == i].isboth))\n",
    "    #adds the badtasks to the array\n",
    "    badretry.append(i)\n"
   ]
  },
  {
   "cell_type": "code",
   "execution_count": null,
   "metadata": {
    "ExecuteTime": {
     "end_time": "2019-09-24T18:43:02.075112Z",
     "start_time": "2019-09-24T18:42:21.146Z"
    }
   },
   "outputs": [],
   "source": [
    "len(goodads.CRAB_Workflow.unique())"
   ]
  },
  {
   "cell_type": "code",
   "execution_count": null,
   "metadata": {
    "ExecuteTime": {
     "end_time": "2019-09-24T18:43:02.077763Z",
     "start_time": "2019-09-24T18:42:21.149Z"
    },
    "scrolled": true
   },
   "outputs": [],
   "source": [
    "print('Previous percentage and length of jobs in both from classads on reasonable days perspctive:')\n",
    "print(str(sum(goodads.isboth)/len(goodads.isboth))+'\\t'+str(len(goodads.isboth)))\n",
    "\n",
    "print('Percentage and length of only good workflow:')\n",
    "print(str(sum(goodads[~goodads.CRAB_Workflow.isin(badworkflow)].isboth)/len(goodads[~goodads.CRAB_Workflow.isin(badworkflow)].isboth))+'\\t'+str(len(goodads[~goodads.CRAB_Workflow.isin(badworkflow)].isboth)))\n",
    "\n",
    "print('Percentage and length of bad workflow:')\n",
    "print(str(sum(goodads[goodads.CRAB_Workflow.isin(badworkflow)].isboth)/len(goodads[goodads.CRAB_Workflow.isin(badworkflow)].isboth))+'\\t'+str(len(goodads[goodads.CRAB_Workflow.isin(badworkflow)].isboth)))\n"
   ]
  },
  {
   "cell_type": "code",
   "execution_count": null,
   "metadata": {
    "ExecuteTime": {
     "end_time": "2019-09-24T18:43:02.080421Z",
     "start_time": "2019-09-24T18:42:21.152Z"
    }
   },
   "outputs": [],
   "source": [
    "#prints ScheddName, percent of good, number of jobs in each schedd\n",
    "\n",
    "for i in goodads.ScheddName.unique():\n",
    "    print(i)\n",
    "    print(sum(goodads[goodads.ScheddName == i].isboth)/len(goodads[goodads.ScheddName == i]))\n",
    "    print(len(goodads[goodads.ScheddName == i]))"
   ]
  },
  {
   "cell_type": "code",
   "execution_count": null,
   "metadata": {
    "ExecuteTime": {
     "end_time": "2019-09-24T18:43:02.083042Z",
     "start_time": "2019-09-24T18:42:21.156Z"
    }
   },
   "outputs": [],
   "source": [
    "goodads = goodads[~goodads.CRAB_Workflow.isin(badworkflow)]"
   ]
  },
  {
   "cell_type": "code",
   "execution_count": null,
   "metadata": {
    "ExecuteTime": {
     "end_time": "2019-09-24T18:43:02.084776Z",
     "start_time": "2019-09-24T18:42:21.159Z"
    }
   },
   "outputs": [],
   "source": [
    "baddads = goodads[goodads.CRAB_Workflow.isin(badworkflow)]\n",
    "for i in baddads.ScheddName.unique():\n",
    "    print(i)\n",
    "    print(sum(baddads[baddads.ScheddName == i].isboth)/len(baddads[baddads.ScheddName == i]))\n",
    "    print(len(baddads[baddads.ScheddName == i]))"
   ]
  },
  {
   "cell_type": "code",
   "execution_count": null,
   "metadata": {
    "ExecuteTime": {
     "end_time": "2019-09-24T18:43:02.087051Z",
     "start_time": "2019-09-24T18:42:21.164Z"
    }
   },
   "outputs": [],
   "source": [
    "print('Original percentage and length of jobs in both from classads on reasonable days perspctive:')\n",
    "print(str(sum(goodads.isboth)/len(goodads.isboth))+'\\t'+str(len(goodads.isboth)))\n",
    "print('Percentage and length of only Success:')\n",
    "print(str(sum(goodads[goodads.ErrorType == 'Success'].isboth)/len(goodads[goodads.ErrorType == 'Success'].isboth))+'\\t'+str(len(goodads[goodads.ErrorType == 'Success'].isboth)))\n",
    "\n",
    "print('Percentage and length of only Completed:')\n",
    "print(str(sum(goodads[goodads.Status == 'Completed'].isboth)/len(goodads[goodads.Status == 'Completed'].isboth))+'\\t'+str(len(goodads[goodads.Status == 'Completed'].isboth)))\n",
    "\n",
    "print('Percentage and length of not Success:')\n",
    "print(str(sum(goodads[goodads.ErrorType != 'Success'].isboth)/len(goodads[goodads.ErrorType != 'Success'].isboth))+'\\t'+str(len(goodads[goodads.ErrorType != 'Success'].isboth)))\n",
    "\n",
    "print('Percentage and length of not Completed:')\n",
    "print(str(sum(goodads[goodads.Status != 'Completed'].isboth)/len(goodads[goodads.Status != 'Completed'].isboth))+'\\t'+str(len(goodads[goodads.Status != 'Completed'].isboth)))\n",
    "\n",
    "print('Percentage and length of only Completed Success:')\n",
    "print(str(sum(goodads[goodads.Status == 'Completed'][goodads.ErrorType == 'Success'].isboth)/len(goodads[goodads.Status == 'Completed'][goodads.ErrorType == 'Success'].isboth))+'\\t'+str(len(goodads[goodads.Status == 'Completed'][goodads.ErrorType == 'Success'].isboth)))\n",
    "print('Percentage and length of not successes and removed:')\n",
    "print(str(sum(goodads[(goodads.ErrorType != 'Success') | (goodads.Status == 'Removed')].isboth)/len(goodads[(goodads.ErrorType != 'Success') | (goodads.Status == 'Removed')].isboth))+'\\t'+str(len(goodads[(goodads.ErrorType != 'Success') | (goodads.Status == 'Removed')].isboth)))"
   ]
  },
  {
   "cell_type": "code",
   "execution_count": null,
   "metadata": {
    "ExecuteTime": {
     "end_time": "2019-09-24T18:43:02.089017Z",
     "start_time": "2019-09-24T18:42:21.167Z"
    }
   },
   "outputs": [],
   "source": [
    "goodads = cleanads[cleanads.day.isin([1551484800, 1551571200, 1551657600, 1551744000])]\n",
    "goodads = goodads[goodads.Status == 'Completed'][goodads.ErrorType == 'Success']"
   ]
  },
  {
   "cell_type": "code",
   "execution_count": null,
   "metadata": {
    "ExecuteTime": {
     "end_time": "2019-09-24T18:43:02.091922Z",
     "start_time": "2019-09-24T18:42:21.170Z"
    }
   },
   "outputs": [],
   "source": [
    "#Uniquely good/bad method\n",
    "\n",
    "#prints the field\n",
    "#number of unique values only in the good/bad set\n",
    "#total number of uunique values\n",
    "#number of jobs with values in the only good/bad set\n",
    "\n",
    "badarray = []\n",
    "gooddict = {}\n",
    "for i in goodads:\n",
    "    if len(goodads[i].unique())/len(goodads)>0.01:\n",
    "        print(i)\n",
    "        continue\n",
    "    print(i)\n",
    "    badarray = [x for x in goodads[i][goodads.isboth == 1].unique().tolist() if x not in goodads[i][goodads.isboth == 0].unique().tolist()]\n",
    "    print(len(badarray))\n",
    "    print(len(goodads[i].unique()))\n",
    "    gooddict.update({i:badarray})\n",
    "    print(len(goodads[goodads[i].isin(badarray)]))"
   ]
  },
  {
   "cell_type": "code",
   "execution_count": null,
   "metadata": {
    "ExecuteTime": {
     "end_time": "2019-09-24T18:43:02.094308Z",
     "start_time": "2019-09-24T18:42:21.172Z"
    },
    "scrolled": false
   },
   "outputs": [],
   "source": [
    "#Uniquely good/bad method\n",
    "\n",
    "#prints the field\n",
    "#number of unique values only in the good/bad set\n",
    "#total number of uunique values\n",
    "#number of jobs with values in the only good/bad set\n",
    "\n",
    "badarray = []\n",
    "baddict = {}\n",
    "for i in goodads:\n",
    "    if len(goodads[i].unique())/len(goodads)>0.01:\n",
    "        print(i)\n",
    "        continue\n",
    "    print(i)\n",
    "    badarray = [x for x in goodads[i][goodads.isboth == 0].unique().tolist() if x not in goodads[i][goodads.isboth == 1].unique().tolist()]\n",
    "    print(len(badarray))\n",
    "    print(len(goodads[i].unique()))\n",
    "    baddict.update({i:badarray})\n",
    "    print(len(goodads[goodads[i].isin(badarray)]))"
   ]
  },
  {
   "cell_type": "code",
   "execution_count": null,
   "metadata": {
    "ExecuteTime": {
     "end_time": "2019-09-24T18:43:02.096479Z",
     "start_time": "2019-09-24T18:42:21.175Z"
    }
   },
   "outputs": [],
   "source": [
    "sum(goodads.isboth)/len(goodads)"
   ]
  },
  {
   "cell_type": "code",
   "execution_count": null,
   "metadata": {
    "ExecuteTime": {
     "end_time": "2019-09-24T18:43:02.098461Z",
     "start_time": "2019-09-24T18:42:21.179Z"
    }
   },
   "outputs": [],
   "source": [
    "1-sum(goodads[goodads.ErrorType != 'Success'].isboth)/len(goodads[goodads.ErrorType != 'Success'])"
   ]
  },
  {
   "cell_type": "code",
   "execution_count": null,
   "metadata": {
    "ExecuteTime": {
     "end_time": "2019-09-24T18:43:02.100721Z",
     "start_time": "2019-09-24T18:42:21.182Z"
    },
    "scrolled": true
   },
   "outputs": [],
   "source": [
    "sum(goodads[~goodads.CRAB_Workflow.isin(baddict['CRAB_Workflow'])].isboth)/len(goodads[~goodads.CRAB_Workflow.isin(baddict['CRAB_Workflow'])].isboth)"
   ]
  },
  {
   "cell_type": "code",
   "execution_count": null,
   "metadata": {
    "ExecuteTime": {
     "end_time": "2019-09-24T18:43:02.103275Z",
     "start_time": "2019-09-24T18:42:21.185Z"
    }
   },
   "outputs": [],
   "source": [
    "goodads = goodads[~goodads.CRAB_Workflow.isin(baddict['CRAB_Workflow'])]"
   ]
  },
  {
   "cell_type": "code",
   "execution_count": null,
   "metadata": {
    "ExecuteTime": {
     "end_time": "2019-09-24T18:43:02.105477Z",
     "start_time": "2019-09-24T18:42:21.188Z"
    }
   },
   "outputs": [],
   "source": [
    "goodfwjr = fwjr[fwjr.day.isin([1551484800, 1551571200, 1551657600, 1551744000])]"
   ]
  },
  {
   "cell_type": "code",
   "execution_count": 15,
   "metadata": {
    "ExecuteTime": {
     "end_time": "2019-09-24T18:47:46.915791Z",
     "start_time": "2019-09-24T18:43:06.303755Z"
    }
   },
   "outputs": [
    {
     "name": "stdout",
     "output_type": "stream",
     "text": [
      "day\n",
      "0\n",
      "5\n",
      "0\n",
      "d_dataset_id\n",
      "14\n",
      "1570\n",
      "16810\n",
      "task\n",
      "61\n",
      "4252\n",
      "19521\n",
      "fwjr_id\n",
      "host\n",
      "0\n",
      "14\n",
      "0\n",
      "files_read\n",
      "0\n",
      "82\n",
      "0\n",
      "CRAB_Id\n",
      "0\n",
      "9644\n",
      "0\n",
      "CRAB_Retry\n",
      "0\n",
      "10\n",
      "0\n",
      "Big_Combo\n",
      "isboth\n",
      "1\n",
      "2\n",
      "20211\n"
     ]
    }
   ],
   "source": [
    "#Uniquely good/bad method\n",
    "\n",
    "#prints the field\n",
    "#number of unique values only in the good/bad set\n",
    "#total number of uunique values\n",
    "#number of jobs with values in the only good/bad set\n",
    "\n",
    "badarray = []\n",
    "baddict = {}\n",
    "for i in goodfwjr:\n",
    "    if len(goodfwjr[i].unique())/len(goodfwjr)>0.01:\n",
    "        print(i)\n",
    "        continue\n",
    "    print(i)\n",
    "    badarray = [x for x in goodfwjr[i][goodfwjr.isboth == 0].unique().tolist() if x not in goodfwjr[i][goodfwjr.isboth == 1].unique().tolist()]\n",
    "    print(len(badarray))\n",
    "    print(len(goodfwjr[i].unique()))\n",
    "    baddict.update({i:badarray})\n",
    "    print(len(goodfwjr[goodfwjr[i].isin(badarray)]))"
   ]
  },
  {
   "cell_type": "code",
   "execution_count": null,
   "metadata": {
    "ExecuteTime": {
     "end_time": "2019-09-24T18:43:02.113687Z",
     "start_time": "2019-09-24T18:42:21.194Z"
    }
   },
   "outputs": [],
   "source": [
    "len(goodfwjr)"
   ]
  },
  {
   "cell_type": "code",
   "execution_count": 16,
   "metadata": {
    "ExecuteTime": {
     "end_time": "2019-09-24T18:47:46.926733Z",
     "start_time": "2019-09-24T18:47:46.919290Z"
    }
   },
   "outputs": [
    {
     "data": {
      "text/plain": [
       "['181114_163242:szhaozho_crab_PromptRECODs0',\n",
       " '181113_101754:szhaozho_crab_PromptRECOMB4',\n",
       " '181113_111235:szhaozho_crab_PromptRECOMB11',\n",
       " '181110_183608:gkaratha_crab_FastSim_GenBToKJpsiToEE_NonD_muFilter_try2',\n",
       " '181110_175657:gkaratha_crab_FastSim_GenBToKEE_NonD_muFilter_try2',\n",
       " '181113_104931:szhaozho_crab_PromptRECOMB7',\n",
       " '181114_132427:mlotti_crab_Hplus2hw_4l_HLT_MC_m350_2',\n",
       " '181114_101942:mlotti_crab_Hplus2hw_4l_HLT_MC_m350_1',\n",
       " '181114_004704:katatar_crab_skim_HIHardProbes_RAW_run326392_userInputFiles',\n",
       " '181112_020816:atittert_crab_nmssmSignalCascadeV01_13TeV2017_processMc02_94X_titterton_P1_2000sq_R0p555',\n",
       " '181112_020958:atittert_crab_nmssmSignalCascadeV01_13TeV2017_processMc02_94X_titterton_P3_2100sq_R0p555',\n",
       " '181112_020306:atittert_crab_nmssmSignalCascadeV01_13TeV2017_processMc02_94X_titterton_P3_1900sq_R0p99',\n",
       " '181112_020725:atittert_crab_nmssmSignalCascadeV01_13TeV2017_processMc02_94X_titterton_P1_1800sq_R0p555',\n",
       " '181112_020909:atittert_crab_nmssmSignalCascadeV01_13TeV2017_processMc02_94X_titterton_P3_1900sq_R0p555',\n",
       " '181112_015604:atittert_crab_nmssmSignalCascadeV01_13TeV2017_processMc02_94X_titterton_P1_1600sq_R0p99',\n",
       " '181112_015941:atittert_crab_nmssmSignalCascadeV01_13TeV2017_processMc02_94X_titterton_P1_2400sq_R0p99',\n",
       " '181112_015513:atittert_crab_nmssmSignalCascadeV01_13TeV2017_processMc02_94X_titterton_P1_1400sq_R0p99',\n",
       " '181112_020120:atittert_crab_nmssmSignalCascadeV01_13TeV2017_processMc02_94X_titterton_P3_1500sq_R0p99',\n",
       " '181112_015848:atittert_crab_nmssmSignalCascadeV01_13TeV2017_processMc02_94X_titterton_P1_2200sq_R0p99',\n",
       " '181112_015655:atittert_crab_nmssmSignalCascadeV01_13TeV2017_processMc02_94X_titterton_P1_1800sq_R0p99',\n",
       " '181112_015752:atittert_crab_nmssmSignalCascadeV01_13TeV2017_processMc02_94X_titterton_P1_2000sq_R0p99',\n",
       " '181112_020451:atittert_crab_nmssmSignalCascadeV01_13TeV2017_processMc02_94X_titterton_P3_2300sq_R0p99',\n",
       " '181112_020355:atittert_crab_nmssmSignalCascadeV01_13TeV2017_processMc02_94X_titterton_P3_2100sq_R0p99',\n",
       " '181112_020030:atittert_crab_nmssmSignalCascadeV01_13TeV2017_processMc02_94X_titterton_P1_2600sq_R0p99',\n",
       " '181112_020213:atittert_crab_nmssmSignalCascadeV01_13TeV2017_processMc02_94X_titterton_P3_1700sq_R0p99',\n",
       " '181112_020637:atittert_crab_nmssmSignalCascadeV01_13TeV2017_processMc02_94X_titterton_P3_2700sq_R0p99',\n",
       " '181113_111559:szhaozho_crab_PromptRECOMB13',\n",
       " '181113_233721:zhixing_crab_RSG1000GeV_2RAW_2',\n",
       " '181113_233627:zhixing_crab_RSG4000GeV_2RAW_2',\n",
       " '181113_233645:zhixing_crab_RSG3000GeV_2RAW_2',\n",
       " '181113_233704:zhixing_crab_RSG2000GeV_2RAW_2',\n",
       " '181110_113011:mcitron_crab_SMS_gluinoGMSBExtendMassTwo_grid',\n",
       " '181029_140125:asaibel_crab_DigiRecoPremix',\n",
       " '181113_111456:szhaozho_crab_PromptRECOMB12',\n",
       " '181113_163115:szhaozho_crab_PromptRECOHF',\n",
       " '181107_212423:gcorreia_crab_LLGDV_Analysis_signal_1000_100_0J_v2_DIGI_HLT',\n",
       " '181107_212954:gcorreia_crab_LLGDV_Analysis_signal_250_40_0J_v1_DIGI_HLT',\n",
       " '181107_212337:gcorreia_crab_LLGDV_Analysis_signal_1000_100_0J_v1_DIGI_HLT',\n",
       " '181107_213338:gcorreia_crab_LLGDV_Analysis_signal_250_40_1J_v2_DIGI_HLT',\n",
       " '181107_213209:gcorreia_crab_LLGDV_Analysis_signal_250_40_1J_v1_DIGI_HLT',\n",
       " '181107_212538:gcorreia_crab_LLGDV_Analysis_signal_1000_100_1J_v1_DIGI_HLT',\n",
       " '181107_213101:gcorreia_crab_LLGDV_Analysis_signal_250_40_0J_v2_DIGI_HLT',\n",
       " '181107_212830:gcorreia_crab_LLGDV_Analysis_signal_1000_100_2J_v2_DIGI_HLT',\n",
       " '181107_213456:gcorreia_crab_LLGDV_Analysis_signal_250_40_2J_v1_DIGI_HLT',\n",
       " '181107_212730:gcorreia_crab_LLGDV_Analysis_signal_1000_100_2J_v1_DIGI_HLT',\n",
       " '181107_212633:gcorreia_crab_LLGDV_Analysis_signal_1000_100_1J_v2_DIGI_HLT',\n",
       " '181107_213554:gcorreia_crab_LLGDV_Analysis_signal_250_40_2J_v2_DIGI_HLT',\n",
       " '181108_225629:zhixing_crab_RSG1000GeV_2RAW',\n",
       " '181109_010450:zhixing_crab_RSG4000GeV_2RAW',\n",
       " '181108_230010:zhixing_crab_RSG2000GeV_2RAW',\n",
       " '181108_225825:zhixing_crab_RSG3000GeV_2RAW',\n",
       " '181113_110248:szhaozho_crab_PromptRECOMB10',\n",
       " '181114_174713:szhaozho_crab_PromptRECODs10',\n",
       " '181114_164149:szhaozho_crab_PromptRECODs1',\n",
       " '181113_113314:szhaozho_crab_PromptRECOMB14',\n",
       " '181114_172127:szhaozho_crab_PromptRECODs8',\n",
       " '181113_105037:szhaozho_crab_PromptRECOMB8',\n",
       " '181113_105952:szhaozho_crab_PromptRECOMB9',\n",
       " '181114_164852:szhaozho_crab_PromptRECODs2',\n",
       " '181113_100359:szhaozho_crab_PromptRECOMB2',\n",
       " '181027_164204:ikucher_crab_Pythia8_Dijet30_pp_Tune4CP5_5020GeV_103X_upgrade2018_realistic_HI_v7']"
      ]
     },
     "execution_count": 16,
     "metadata": {},
     "output_type": "execute_result"
    }
   ],
   "source": [
    "baddict['task']"
   ]
  },
  {
   "cell_type": "code",
   "execution_count": 17,
   "metadata": {
    "ExecuteTime": {
     "end_time": "2019-09-24T18:50:07.430021Z",
     "start_time": "2019-09-24T18:50:07.422423Z"
    }
   },
   "outputs": [],
   "source": [
    "prebadtasks = ['190228_210829:algomez_crab_tthbb13_PostProcMEAnalysis_noME_SingleMuon_Run2018A_102X_v00',\n",
    " '190304_132159:andrea_crab_Zprime_FV_500_gb1dbs0_2_step2_80XRM',\n",
    " '190304_141655:andrea_crab_Zprime_FV_500_gb1dbs0_6_step2_80XRM',\n",
    " '190304_175231:andrea_crab_Zprime_FV_500_gb1dbs0_9_step2_80XRM',\n",
    " '190304_181225:andrea_crab_Zprime_FV_500_gb1dbs0_12_step2_80XRM',\n",
    " '190304_180041:andrea_crab_Zprime_FV_500_gb1dbs0_10_step2_80XRM',\n",
    " '190304_134855:andrea_crab_Zprime_FV_500_gb1dbs0_4_step2_80XRM',\n",
    " '190304_142547:andrea_crab_Zprime_FV_500_gb1dbs0_7_step2_80XRM',\n",
    " '190304_140921:andrea_crab_Zprime_FV_500_gb1dbs0_5_step2_80XRM',\n",
    " '190304_143157:andrea_crab_Zprime_FV_500_gb1dbs0_8_step2_80XRM',\n",
    " '190304_134020:andrea_crab_Zprime_FV_500_gb1dbs0_3_step2_80XRM',\n",
    " '190304_180546:andrea_crab_Zprime_FV_500_gb1dbs0_11_step2_80XRM',\n",
    " '190228_211034:algomez_crab_tthbb13_PostProcMEAnalysis_noME_SingleMuon_Run2018B_102X_v00',\n",
    " '190301_162902:tsusa_crab_forMarcoBeamSpotSel4_2017',\n",
    " '190228_211712:algomez_crab_tthbb13_PostProcMEAnalysis_noME_EGamma_Run2018B_102X_v00',\n",
    " '190302_013241:sciaba_crab_HC-102-T2_CH_CERN-72114-20190301032911',\n",
    " '190303_175822:tsusa_crab_forMarcoBeamSpotNewNoCW_2017',\n",
    " '190303_175611:tsusa_crab_forMarcoBeamSpotNew_2017',\n",
    " '190228_164125:algomez_crab_tthbb13_PostProcMEAnalysis_noME_ttHTobb_M125_TuneCP5_13TeV-powheg-pythia8_102X_v00',\n",
    " '190305_181550:algomez_crab_tthbb13_PostProcMEAnalysis_withME_ttHTobb_M125_TuneCP5_13TeV-powheg-pythia8_102X_v01',\n",
    " '190305_181439:algomez_crab_tthbb13_PostProcMEAnalysis_withME_TTToSemiLeptonic_TuneCP5_13TeV-powheg-pythia8_102X_v01',\n",
    " '190228_160016:algomez_crab_tthbb13_PostProcMEAnalysis_noME_TTToSemiLeptonic_TuneCP5_13TeV-powheg-pythia8_102X_v00',\n",
    " '190301_154858:leac_crab_MC_2017_ULgt_newPU_FEVT',\n",
    " '190228_211747:algomez_crab_tthbb13_PostProcMEAnalysis_noME_EGamma_Run2018C_102X_v00',\n",
    " '190228_111812:smoortga_crab_DIGIRAW_smeftttcc',\n",
    " '190304_135142:fernance_crab_DisplacedSUSY_squarkToQuarkChi_MSquark_1500_MChi_494_ctau_160mm_TuneCP5_14TeV_pythia8_DRPREMIX_step1',\n",
    " '190220_180659:mcitron_crab_SMS_gluinoGMSB_2017_grid_PUMix_gluinoGMSB_M1600_ctau100000p0',\n",
    " '190305_112843:vannerom_crab_ZprimeToTauprimeTauprime_MTau1_QTau1_DIGI_test',\n",
    " '190220_180216:mcitron_crab_SMS_gluinoGMSB_2017_grid_PUMix_gluinoGMSB_M1200_ctau5000p0',\n",
    " '190225_190655:qwang_crab_HIMB1_LmTree_v2',\n",
    " '190228_211207:algomez_crab_tthbb13_PostProcMEAnalysis_noME_SingleMuon_Run2018D_102X_v00',\n",
    " '190305_003651:jviinika_crab_TkAlJetHTReconstruction_Run2017ABCDEF-v1_10keventPerIov',\n",
    " '190304_191725:rpradhan_crab_PbPb2015_V0',\n",
    " '190228_182205:rpradhan_crab_PbPb2015_V0',\n",
    " '190227_164922:rpradhan_crab_PbPb2015_V0',\n",
    " '190227_211902:lguzzi_crab_WTau3Mu-RunIIFall18DRstep1_500k',\n",
    " '190226_175100:hatake_crab_PGun_step2_DIGI_10_2_11_E0_500_PU_v2',\n",
    " '190228_210904:algomez_crab_tthbb13_PostProcMEAnalysis_noME_SingleMuon_Run2018C_102X_v00',\n",
    " '190305_142449:meridian_crab_SingleGamma_Pt1To10_PU200',\n",
    " '190304_182812:ddesouza_crab_TT0_FemtopPb8TeV_1D_data_mix5_1_MBana',\n",
    " '190304_183433:ddesouza_crab_TT2_FemtopPb8TeV_1D_data_mix5_1_MBana',\n",
    " '190301_193954:ddesouza_crab_T01_FemtopPb8TeV_1D_data_mix5_1_MBana',\n",
    " '190303_050243:ddesouza_crab_T1X_FemtopPb8TeV_1D_data_mix5_1_MBana',\n",
    " '190301_193444:ddesouza_crab_T00_FemtopPb8TeV_1D_data_mix5_1_MBana',\n",
    " '190303_050355:ddesouza_crab_T2X_FemtopPb8TeV_1D_data_mix5_1_MBana',\n",
    " '190303_050840:ddesouza_crab_T3X_FemtopPb8TeV_1D_data_mix5_1_MBana',\n",
    " '190303_050041:ddesouza_crab_T0X_FemtopPb8TeV_1D_data_mix5_1_MBana',\n",
    " '190303_051915:ddesouza_crab_T4X_FemtopPb8TeV_1D_data_mix5_1_MBana',\n",
    " '190304_183311:ddesouza_crab_TT1_FemtopPb8TeV_1D_data_mix5_1_MBana',\n",
    " '190303_052244:ddesouza_crab_T6X_FemtopPb8TeV_1D_data_mix5_1_MBana',\n",
    " '190303_052029:ddesouza_crab_T5X_FemtopPb8TeV_1D_data_mix5_1_MBana',\n",
    " '190301_063526:jjay_crab_Ups1sMM_PbPb_MC_DIGIRAW_20190228',\n",
    " '190302_045940:rbi_crab_Pythia8_Ze10e10_m60120_pthat0_TuneCP5_5020GeV_GENSIM_1032_v1',\n",
    " '190305_082253:ikucher_crab_QCDPhoton_pThat-30_TuneCP5_PbPb_5p02TeV_pythia8_103X_upgrade2018_realistic_HI_v11_DIGI2RAW',\n",
    " '190304_191350:ikucher_crab_QCDPhoton_pThat-30_TuneCP5_PbPb_5p02TeV_pythia8_103X_upgrade2018_realistic_HI_v11_V2',\n",
    " '190302_172252:rbi_crab_Pythia8_Ze10e10_m60120_pthat0_TuneCP5_5020GeV_DIGIRAW_1032_v1',\n",
    " '190304_162348:ikucher_crab_QCDPhoton_pThat-30_TuneCP5_PbPb_5p02TeV_pythia8_103X_upgrade2018_realistic_HI_v11',\n",
    " '190305_061349:jjay_crab_Ups1sMM_PbPb_MC_DIGIRAW_20190304',\n",
    " '190301_153318:rbi_crab_Pythia8_WToENu_TuneCP5_5020GeV_DIGIRAW_1032_v1',\n",
    " '190304_195636:rbi_crab_Pythia8_Ze10e10_m60120_pthat0_TuneCP5_5020GeV_DIGIRAW_1032_v2',\n",
    " '190228_211857:algomez_crab_tthbb13_PostProcMEAnalysis_noME_EGamma_Run2018D_102X_v00',\n",
    " '190304_183042:ddesouza_crab_TT0_mc_FemtopPb8TeV_1D_data_mix5_1_MBana',\n",
    " '190304_183251:ddesouza_crab_TT1_mc_FemtopPb8TeV_1D_data_mix5_1_MBana',\n",
    " '190304_183500:ddesouza_crab_TT2_mc_FemtopPb8TeV_1D_data_mix5_1_MBana']"
   ]
  },
  {
   "cell_type": "code",
   "execution_count": 21,
   "metadata": {
    "ExecuteTime": {
     "end_time": "2019-09-24T18:51:54.293856Z",
     "start_time": "2019-09-24T18:51:54.287407Z"
    }
   },
   "outputs": [
    {
     "data": {
      "text/plain": [
       "[]"
      ]
     },
     "execution_count": 21,
     "metadata": {},
     "output_type": "execute_result"
    }
   ],
   "source": [
    "[x for x in prebadtasks if x in baddict['task']]"
   ]
  },
  {
   "cell_type": "code",
   "execution_count": 22,
   "metadata": {
    "ExecuteTime": {
     "end_time": "2019-09-24T18:57:28.617023Z",
     "start_time": "2019-09-24T18:57:28.612533Z"
    }
   },
   "outputs": [],
   "source": [
    "prebadid = [13243219,\n",
    " 13482678,\n",
    " 13767499,\n",
    " 13475561,\n",
    " 13754501,\n",
    " 13749780,\n",
    " 13756230,\n",
    " 13783383,\n",
    " 13504221,\n",
    " 13413676,\n",
    " 12933850,\n",
    " 13733264,\n",
    " 13403730,\n",
    " 13751582,\n",
    " 13454467,\n",
    " 13439723,\n",
    " 13470231,\n",
    " 13767559,\n",
    " 13767403,\n",
    " 13374215]"
   ]
  },
  {
   "cell_type": "code",
   "execution_count": 24,
   "metadata": {
    "ExecuteTime": {
     "end_time": "2019-09-24T18:57:51.606467Z",
     "start_time": "2019-09-24T18:57:51.601167Z"
    }
   },
   "outputs": [
    {
     "data": {
      "text/plain": [
       "[13740661,\n",
       " 13442015,\n",
       " 12887084,\n",
       " 13739990,\n",
       " 13477999,\n",
       " 13740665,\n",
       " 3854727,\n",
       " 13504221,\n",
       " 13740674,\n",
       " 13740793,\n",
       " 12682774,\n",
       " 13740673,\n",
       " 13740666,\n",
       " 13703339]"
      ]
     },
     "execution_count": 24,
     "metadata": {},
     "output_type": "execute_result"
    }
   ],
   "source": [
    "baddict['d_dataset_id']"
   ]
  },
  {
   "cell_type": "code",
   "execution_count": 26,
   "metadata": {
    "ExecuteTime": {
     "end_time": "2019-09-24T18:58:39.749073Z",
     "start_time": "2019-09-24T18:58:39.744306Z"
    }
   },
   "outputs": [
    {
     "data": {
      "text/plain": [
       "[13504221]"
      ]
     },
     "execution_count": 26,
     "metadata": {},
     "output_type": "execute_result"
    }
   ],
   "source": [
    "[x for x in baddict['d_dataset_id'] if x in prebadid]"
   ]
  },
  {
   "cell_type": "code",
   "execution_count": null,
   "metadata": {
    "ExecuteTime": {
     "end_time": "2019-09-24T18:43:02.118720Z",
     "start_time": "2019-09-24T18:42:21.201Z"
    }
   },
   "outputs": [],
   "source": [
    "goodfwjr = goodfwjr[~goodfwjr.task.isin(baddict['task'])]"
   ]
  },
  {
   "cell_type": "code",
   "execution_count": null,
   "metadata": {
    "ExecuteTime": {
     "end_time": "2019-09-24T18:43:02.121513Z",
     "start_time": "2019-09-24T18:42:21.204Z"
    },
    "scrolled": true
   },
   "outputs": [],
   "source": [
    "baderror = [x for x in goodads['ErrorType'][goodads.isboth == 0].unique().tolist() if x not in goodads['ErrorType'][goodads.isboth == 1].unique().tolist()]\n",
    "guess = cleanads[cleanads.day == 1551484800.0][cleanads.ErrorType.isin(baderror)]\n",
    "print(sum(guess.isboth))\n",
    "print(len(guess))\n",
    "print(baderror)\n",
    "print(len(cleanads[cleanads.day == 1551484800.0][cleanads.isboth == 0]))\n",
    "print(cleanads.ErrorType.unique())\n",
    "print(sum(cleanads[cleanads.day == 1551484800.0][cleanads.ErrorType == 'Executable']['isboth']))\n",
    "print(len(cleanads[cleanads.day == 1551484800.0][cleanads.ErrorType == 'Success']['isboth']))"
   ]
  },
  {
   "cell_type": "code",
   "execution_count": null,
   "metadata": {
    "ExecuteTime": {
     "end_time": "2019-09-24T18:43:02.124229Z",
     "start_time": "2019-09-24T18:42:21.207Z"
    }
   },
   "outputs": [],
   "source": [
    "goodads.Status.unique()"
   ]
  },
  {
   "cell_type": "code",
   "execution_count": null,
   "metadata": {
    "ExecuteTime": {
     "end_time": "2019-09-24T18:43:02.127474Z",
     "start_time": "2019-09-24T18:42:21.210Z"
    }
   },
   "outputs": [],
   "source": [
    "goodads[(goodads.ErrorType != 'Success') | (goodads.Status == 'Removed')].Status.unique()"
   ]
  },
  {
   "cell_type": "code",
   "execution_count": null,
   "metadata": {
    "ExecuteTime": {
     "end_time": "2019-09-24T18:43:02.130552Z",
     "start_time": "2019-09-24T18:42:21.213Z"
    }
   },
   "outputs": [],
   "source": [
    "#these are the acceptions to the error rule.  Only success shown in fwjr. I dont expect to be able to explaine these\n",
    "goodads[goodads.ErrorType != 'Success'][goodads.isboth == 1]"
   ]
  },
  {
   "cell_type": "code",
   "execution_count": null,
   "metadata": {
    "ExecuteTime": {
     "end_time": "2019-09-24T18:43:02.133392Z",
     "start_time": "2019-09-24T18:42:21.218Z"
    }
   },
   "outputs": [],
   "source": [
    "for i in goodads.RequestCpus.unique().tolist():\n",
    "    print(i)\n",
    "    print(sum(goodads[goodads.RequestCpus == i].isboth)/len(goodads[goodads.RequestCpus == i].isboth))\n",
    "    print(len(goodads[goodads.RequestCpus == i].isboth))"
   ]
  },
  {
   "cell_type": "code",
   "execution_count": null,
   "metadata": {
    "ExecuteTime": {
     "end_time": "2019-09-24T18:43:02.136010Z",
     "start_time": "2019-09-24T18:42:21.221Z"
    }
   },
   "outputs": [],
   "source": [
    "print(np.sort(cleanads.CRAB_Retry.unique().tolist()))"
   ]
  },
  {
   "cell_type": "code",
   "execution_count": null,
   "metadata": {
    "ExecuteTime": {
     "end_time": "2019-09-24T18:43:02.138584Z",
     "start_time": "2019-09-24T18:42:21.224Z"
    },
    "scrolled": true
   },
   "outputs": [],
   "source": [
    "for i in np.sort(cleanads.CRAB_Retry.unique().tolist()):\n",
    "    print(i)\n",
    "    if len(goodads[goodads.CRAB_Retry == i].isboth) != 0:\n",
    "        print(sum(goodads[goodads.CRAB_Retry == i].isboth)/len(goodads[goodads.CRAB_Retry == i].isboth))\n",
    "    print(len(goodads[goodads.CRAB_Retry == i].isboth))"
   ]
  },
  {
   "cell_type": "code",
   "execution_count": null,
   "metadata": {
    "ExecuteTime": {
     "end_time": "2019-09-24T18:43:02.141481Z",
     "start_time": "2019-09-24T18:42:21.228Z"
    }
   },
   "outputs": [],
   "source": [
    "print('Original percentage of jobs in both from classads on reasonable days perspctive:')\n",
    "print(sum(goodads.isboth)/len(goodads.isboth))\n",
    "print('Percentage of only 13 or less retries:')\n",
    "print(sum(goodads[goodads.CRAB_Retry < 13.5].isboth)/len(goodads[goodads.CRAB_Retry < 13.5].isboth))\n",
    "print('Percentage of 14 or more retries:')\n",
    "print(sum(goodads[goodads.CRAB_Retry >13.5 ].isboth)/len(goodads[goodads.CRAB_Retry > 13.5].isboth))\n"
   ]
  },
  {
   "cell_type": "code",
   "execution_count": null,
   "metadata": {
    "ExecuteTime": {
     "end_time": "2019-09-24T18:43:02.144753Z",
     "start_time": "2019-09-24T18:42:21.231Z"
    },
    "scrolled": true
   },
   "outputs": [],
   "source": [
    "#shows how many unique values on good days of fwjr appear only in fwjr\n",
    "mfwjr = goodfwjr#fwjr[fwjr.day.isin([1551484800, 1551571200, 1551657600])]\n",
    "for i in mfwjr:\n",
    "    print(i)\n",
    "    if len(mfwjr[i][mfwjr.isboth == 0].unique())/len(mfwjr[i])>.01:\n",
    "        print('')\n",
    "        continue\n",
    "    print(len([x for x in mfwjr[i][mfwjr.isboth == 0].unique().tolist() if x not in mfwjr[i][mfwjr.isboth == 1].unique().tolist()]))\n",
    "    print(len(mfwjr[i][mfwjr.isboth == 0].unique().tolist()))\n",
    "    print(len(mfwjr[i].unique().tolist()))"
   ]
  },
  {
   "cell_type": "code",
   "execution_count": null,
   "metadata": {
    "ExecuteTime": {
     "end_time": "2019-09-24T18:43:02.147995Z",
     "start_time": "2019-09-24T18:42:21.234Z"
    }
   },
   "outputs": [],
   "source": [
    "i = 'd_dataset_id'\n",
    "badtask = [x for x in mfwjr[i][mfwjr.isboth == 0].unique().tolist() if x not in mfwjr[i][mfwjr.isboth == 1].unique().tolist()]"
   ]
  },
  {
   "cell_type": "code",
   "execution_count": null,
   "metadata": {
    "ExecuteTime": {
     "end_time": "2019-09-24T18:43:02.151025Z",
     "start_time": "2019-09-24T18:42:21.237Z"
    }
   },
   "outputs": [],
   "source": [
    "badtask"
   ]
  },
  {
   "cell_type": "code",
   "execution_count": null,
   "metadata": {
    "ExecuteTime": {
     "end_time": "2019-09-24T18:43:02.153698Z",
     "start_time": "2019-09-24T18:42:21.240Z"
    }
   },
   "outputs": [],
   "source": [
    "goodfwjr = fwjr[fwjr.day.isin([1551484800, 1551571200, 1551657600, 1551744000])]#[fwjr.CRAB_Retry == '0']\n",
    "len(goodfwjr)"
   ]
  },
  {
   "cell_type": "code",
   "execution_count": null,
   "metadata": {
    "ExecuteTime": {
     "end_time": "2019-09-24T18:43:02.156433Z",
     "start_time": "2019-09-24T18:42:21.243Z"
    }
   },
   "outputs": [],
   "source": [
    "#my algorithm for fwjr\n",
    "\n",
    "#creates an array for each field in the dataframe\n",
    "#each value in the array represents a unique value in that field\n",
    "#outputs the standard deviation then the mean of this array\n",
    "#these numbers can be used to tell how useful each field should be for seperating based on isboth\n",
    "#a useful field is one with a lower standard deviation and a higher mean\n",
    "#Note: All values in the array are between 0 and 0.5 so the closer the second number is to 0.5,\n",
    "#     the better that field should be as a predictor.\n",
    "\n",
    "#iterates through fields in goodads\n",
    "for field in goodfwjr:\n",
    "    #creates and refreshes an array for each field\n",
    "    prayer = []\n",
    "    print(field)\n",
    "    #skips to the next field if the current one has too many unique values for the code to run quickly\n",
    "    #can be changed as desired\n",
    "    if len(goodfwjr[field].unique())>5000:\n",
    "        print(len(goodfwjr[field].unique()))\n",
    "        continue\n",
    "    #iterates through unique values of the field we are looking at.\n",
    "    for i in goodfwjr[field].unique().tolist():\n",
    "        #not sure why but sometimes there arent actually any jobs with a certain value that comes up\n",
    "        #we have to skip these values to avoid division by zero in the next step\n",
    "        if len(goodfwjr[goodfwjr[field] == i]['isboth']) == 0:\n",
    "            continue\n",
    "        #creates a value for the array equal to the absolute value of (0.5 - x)\n",
    "        #where x is the precentage of jobs in both with with one particular value in the current fields\n",
    "        newval = abs(0.5-sum(goodfwjr[goodfwjr[field] == i]['isboth'])/len(goodfwjr[goodfwjr[field] == i]['isboth'])) \n",
    "        prayer.append(newval)\n",
    "    #print the field name, standard deviation of usefulness array,  \n",
    "    #mean of usefulness array, and number of unique values in the field\n",
    "    print(np.std(prayer))\n",
    "    print(np.mean(prayer))\n",
    "    print(len(goodfwjr[field].unique()))\n"
   ]
  },
  {
   "cell_type": "code",
   "execution_count": null,
   "metadata": {
    "ExecuteTime": {
     "end_time": "2019-09-24T18:43:02.158733Z",
     "start_time": "2019-09-24T18:42:21.247Z"
    },
    "scrolled": true
   },
   "outputs": [],
   "source": [
    "for i in np.sort(goodfwjr.CRAB_Retry.unique().tolist()):\n",
    "    print(i)\n",
    "    if len(goodfwjr[goodfwjr.CRAB_Retry == i].isboth) != 0:\n",
    "        print(sum(goodfwjr[goodfwjr.CRAB_Retry == i].isboth)/len(goodfwjr[goodfwjr.CRAB_Retry == i].isboth))\n",
    "    print(len(goodfwjr[goodfwjr.CRAB_Retry == i].isboth))"
   ]
  },
  {
   "cell_type": "code",
   "execution_count": null,
   "metadata": {
    "ExecuteTime": {
     "end_time": "2019-09-24T18:43:02.161500Z",
     "start_time": "2019-09-24T18:42:21.250Z"
    },
    "scrolled": true
   },
   "outputs": [],
   "source": [
    "for i in goodfwjr.host.unique().tolist():\n",
    "    print(i)\n",
    "    if len(goodfwjr[goodfwjr.host == i].isboth) != 0:\n",
    "        print(sum(goodfwjr[goodfwjr.host == i].isboth)/len(goodfwjr[goodfwjr.host == i].isboth))\n",
    "    print(len(goodfwjr[goodfwjr.host == i].isboth))"
   ]
  },
  {
   "cell_type": "code",
   "execution_count": null,
   "metadata": {
    "ExecuteTime": {
     "end_time": "2019-09-24T18:43:02.164025Z",
     "start_time": "2019-09-24T18:42:21.254Z"
    }
   },
   "outputs": [],
   "source": [
    "#Creates an array of bad tasks to be removed from the set\n",
    "\n",
    "badtask = []\n",
    "#iterates through unique values of the desired field, in this case 'task'\n",
    "for i in goodfwjr.task.unique().tolist():    \n",
    "    #seperates good tasks from bad tasks by skipping any tasks for which more than \n",
    "    #half the jobs are in both\n",
    "    if sum(goodfwjr[goodfwjr.task == i].isboth)/len(goodfwjr[goodfwjr.task == i].isboth)> 0.5:\n",
    "        continue\n",
    "    print(i)\n",
    "    print(len(goodfwjr[goodfwjr.task == i].isboth))\n",
    "    #adds the badtasks to the array\n",
    "    badtask.append(i)\n"
   ]
  },
  {
   "cell_type": "code",
   "execution_count": null,
   "metadata": {
    "ExecuteTime": {
     "end_time": "2019-09-24T18:43:02.166729Z",
     "start_time": "2019-09-24T18:42:21.257Z"
    }
   },
   "outputs": [],
   "source": [
    "#Creates an array of bad tasks to be removed from the set\n",
    "\n",
    "badd_id = []\n",
    "#iterates through unique values of the desired field, in this case 'task'\n",
    "for i in goodfwjr.d_dataset_id.unique().tolist():    \n",
    "    #seperates good tasks from bad tasks by skipping any tasks for which more than \n",
    "    #half the jobs are in both\n",
    "    if sum(goodfwjr[goodfwjr.d_dataset_id == i].isboth)/len(goodfwjr[goodfwjr.d_dataset_id == i].isboth)> 0.5:\n",
    "        continue\n",
    "    print(i)\n",
    "    print(len(goodfwjr[goodfwjr.d_dataset_id == i].isboth))\n",
    "    #adds the badtasks to the array\n",
    "    badd_id.append(i)\n"
   ]
  },
  {
   "cell_type": "code",
   "execution_count": null,
   "metadata": {
    "ExecuteTime": {
     "end_time": "2019-09-24T18:43:02.168899Z",
     "start_time": "2019-09-24T18:42:21.261Z"
    },
    "scrolled": true
   },
   "outputs": [],
   "source": [
    "#badtask = [x for x in mfwjr['task'][mfwjr.isboth == 0].unique().tolist() if x not in mfwjr['task'][mfwjr.isboth == 1].unique().tolist()]\n",
    "guess = fwjr[fwjr.day == 1551484800][fwjr.task.isin(badtask)]\n",
    "print(sum(guess.isboth))\n",
    "print(len(guess))\n",
    "print(guess.day.unique())\n",
    "print(len(fwjr[fwjr.day == 1551744000][fwjr.isboth == 0]))\n",
    "badtask"
   ]
  },
  {
   "cell_type": "code",
   "execution_count": null,
   "metadata": {
    "ExecuteTime": {
     "end_time": "2019-09-24T18:43:02.171338Z",
     "start_time": "2019-09-24T18:42:21.265Z"
    }
   },
   "outputs": [],
   "source": [
    "#Compares the original set of jobs with the set that has tasks in badtask, \n",
    "#and the set made by removing the jobs with tasks in bad tasks.\n",
    "\n",
    "#Each row shows the percentage of jobs in that set that is in both, and the number of jobs in the set \n",
    "#To create the new good set, use the following code\n",
    "#newset = goodfwjr[~goodfwjr.task.isin(badtask)]\n",
    "\n",
    "print('Original:')\n",
    "print('Percent:\\t'+str(sum(goodfwjr.isboth)/len(goodfwjr))+'\\tLength:\\t'+str(len(goodfwjr)))\n",
    "print('FWJR with Badtasks:')\n",
    "print('Percent:\\t'+str(sum(goodfwjr[goodfwjr.task.isin(badtask)].isboth)/len(goodfwjr[goodfwjr.task.isin(badtask)]))+'\\tLength:\\t'+str(len(goodfwjr[goodfwjr.task.isin(badtask)])))\n",
    "print('Original - Badtasts:')\n",
    "print('Percent:\\t'+str(sum(goodfwjr[~goodfwjr.task.isin(badtask)].isboth)/len(goodfwjr[~goodfwjr.task.isin(badtask)]))+'\\tLength:\\t'+str(len(goodfwjr[~goodfwjr.task.isin(badtask)])))\n"
   ]
  },
  {
   "cell_type": "code",
   "execution_count": null,
   "metadata": {
    "ExecuteTime": {
     "end_time": "2019-09-24T18:43:02.173998Z",
     "start_time": "2019-09-24T18:42:21.269Z"
    }
   },
   "outputs": [],
   "source": [
    "print('Original:')\n",
    "print('Percent:\\t'+str(sum(goodfwjr.isboth)/len(goodfwjr))+'\\tLength:\\t'+str(len(goodfwjr)))\n",
    "print('FWJR with Bad dataset id:')\n",
    "print('Percent:\\t'+str(sum(goodfwjr[goodfwjr.d_dataset_id.isin(badd_id)].isboth)/len(goodfwjr[goodfwjr.d_dataset_id.isin(badd_id)]))+'\\tLength:\\t'+str(len(goodfwjr[goodfwjr.d_dataset_id.isin(badd_id)])))\n",
    "print('Original - Bad dataset id:')\n",
    "print('Percent:\\t'+str(sum(goodfwjr[~goodfwjr.d_dataset_id.isin(badd_id)].isboth)/len(goodfwjr[~goodfwjr.d_dataset_id.isin(badd_id)]))+'\\tLength:\\t'+str(len(goodfwjr[~goodfwjr.d_dataset_id.isin(badd_id)])))\n"
   ]
  },
  {
   "cell_type": "code",
   "execution_count": null,
   "metadata": {
    "ExecuteTime": {
     "end_time": "2019-09-24T18:43:02.176041Z",
     "start_time": "2019-09-24T18:42:21.272Z"
    }
   },
   "outputs": [],
   "source": [
    "goodads.ErrorType.unique()\n",
    "goodads = goodads[goodads.ErrorType == 'Success']"
   ]
  },
  {
   "cell_type": "code",
   "execution_count": null,
   "metadata": {
    "ExecuteTime": {
     "end_time": "2019-09-24T18:43:02.178343Z",
     "start_time": "2019-09-24T18:42:21.275Z"
    },
    "scrolled": true
   },
   "outputs": [],
   "source": [
    "badd_datasetid = [x for x in mfwjr['d_dataset_id'][mfwjr.isboth == 0].unique().tolist() if x not in mfwjr['d_dataset_id'][mfwjr.isboth == 1].unique().tolist()]\n",
    "guess2 = fwjr[fwjr.d_dataset_id.isin(badtask)]\n",
    "print(sum(guess2.isboth)"
   ]
  },
  {
   "cell_type": "code",
   "execution_count": null,
   "metadata": {
    "ExecuteTime": {
     "end_time": "2019-09-24T18:43:02.180796Z",
     "start_time": "2019-09-24T18:42:21.279Z"
    }
   },
   "outputs": [],
   "source": [
    "cleanads = cleanads[cleanads.Status == 'Completed']\n",
    "cleanads = cleanads[cleanads.ErrorType == 'Success']"
   ]
  },
  {
   "cell_type": "code",
   "execution_count": null,
   "metadata": {
    "ExecuteTime": {
     "end_time": "2019-09-24T18:43:02.183668Z",
     "start_time": "2019-09-24T18:42:21.282Z"
    }
   },
   "outputs": [],
   "source": [
    "fwjr.day.unique()"
   ]
  },
  {
   "cell_type": "code",
   "execution_count": null,
   "metadata": {
    "ExecuteTime": {
     "end_time": "2019-09-24T18:43:02.187794Z",
     "start_time": "2019-09-24T18:42:21.284Z"
    }
   },
   "outputs": [],
   "source": [
    "cleanads.day.unique()"
   ]
  },
  {
   "cell_type": "code",
   "execution_count": null,
   "metadata": {
    "ExecuteTime": {
     "end_time": "2019-09-24T18:43:02.192219Z",
     "start_time": "2019-09-24T18:42:21.289Z"
    }
   },
   "outputs": [],
   "source": [
    "treetest={}\n",
    "treetest['CRAB_Id'] = LabelEncoder().fit_transform(goodads['CRAB_Id'])\n",
    "for p in cleanads:\n",
    "    if type(goodads[p].iloc[1]) is not str:   \n",
    "        treetest[p] = goodads[p]\n",
    "        continue\n",
    "    if (goodads[p].nunique()/len(goodads[p])>.5):\n",
    "        continue\n",
    "    if p == 'CMS_TaskType':\n",
    "        continue\n",
    "    else:\n",
    "        treetest[p] = LabelEncoder().fit_transform(goodads[p])\n",
    "treetest = pd.DataFrame(treetest)\n",
    "#treetest = treetest[treetest.day.isin([1551484800.0, 1551571200.0, 1551657600.0, 1551744000.0])]\n",
    "pd.DataFrame(treetest).head()"
   ]
  },
  {
   "cell_type": "code",
   "execution_count": null,
   "metadata": {
    "ExecuteTime": {
     "end_time": "2019-09-24T18:43:02.194157Z",
     "start_time": "2019-09-24T18:42:21.292Z"
    },
    "scrolled": true
   },
   "outputs": [],
   "source": [
    "sum(treetest.isboth)/len(treetest)"
   ]
  },
  {
   "cell_type": "code",
   "execution_count": null,
   "metadata": {
    "ExecuteTime": {
     "end_time": "2019-09-24T18:43:02.195786Z",
     "start_time": "2019-09-24T18:42:21.295Z"
    }
   },
   "outputs": [],
   "source": [
    "for i in np.sort(fwjr.day.unique().tolist()):\n",
    "    print(datetime.date.fromtimestamp(i))\n",
    "#predictors.remove('CRAB_Workflow')\n",
    "#treetest = treetest[treetest.ScheddName == 0.0]"
   ]
  },
  {
   "cell_type": "code",
   "execution_count": null,
   "metadata": {
    "ExecuteTime": {
     "end_time": "2019-09-24T18:43:02.199690Z",
     "start_time": "2019-09-24T18:42:21.298Z"
    }
   },
   "outputs": [],
   "source": [
    "[*treetest]"
   ]
  },
  {
   "cell_type": "code",
   "execution_count": null,
   "metadata": {
    "ExecuteTime": {
     "end_time": "2019-09-24T18:43:02.201597Z",
     "start_time": "2019-09-24T18:42:21.302Z"
    }
   },
   "outputs": [],
   "source": [
    "midtest = treetest\n",
    "#midtest = treetest[treetest.day != 1551398400.0]\n",
    "#midtest = midtest[midtest.day == 1551571200.0]\n",
    "\n",
    "target = 'isboth'\n",
    "predictors = ['CRAB_Id','RecordTime','day','d_dataset_id','CRAB_Workflow','CRAB_UserHN','RequestCpus','ScheddName','WallClockHr']\n",
    "#predictors = []\n",
    "#for i in [*treetest]:\n",
    " #   if i == target or i == 'day':\n",
    "  #      continue\n",
    "   # if type(treetest[i].loc[3]) is str:   \n",
    "    #    continue\n",
    "    #predictors.append(i)\n",
    "#predictors.remove('ErrorType')\n",
    "  \n",
    "# defining predictors\n",
    "X = midtest[predictors]\n",
    "\n",
    "# definig the target variable and mapping it to 1 if in fwjr and 0 otherwise\n",
    "y = midtest[target]\n",
    "\n",
    "# instantiating the model\n",
    "tree = DecisionTreeClassifier(min_samples_split = 4,max_depth = 10) \n",
    "\n",
    "# fitting the model\n",
    "model = tree.fit(X,y)\n",
    "treetest.head()"
   ]
  },
  {
   "cell_type": "code",
   "execution_count": null,
   "metadata": {
    "ExecuteTime": {
     "end_time": "2019-09-24T18:43:02.203664Z",
     "start_time": "2019-09-24T18:42:21.306Z"
    },
    "scrolled": true
   },
   "outputs": [],
   "source": [
    "\n",
    "dot_data = StringIO()  \n",
    "\n",
    "export_graphviz(\n",
    "    model, \n",
    "    out_file = dot_data,  \n",
    "    filled=True, rounded=True, proportion=False,\n",
    "    special_characters=True, \n",
    "    feature_names=X.columns,\n",
    "    class_names=[\"Only Classads\", \"Both\"]\n",
    ")  \n",
    "\n",
    "graph = pydotplus.graph_from_dot_data(dot_data.getvalue())  \n",
    "\n",
    "Image(graph.create_png())"
   ]
  },
  {
   "cell_type": "code",
   "execution_count": null,
   "metadata": {
    "ExecuteTime": {
     "end_time": "2019-09-24T18:43:02.207425Z",
     "start_time": "2019-09-24T18:42:21.309Z"
    }
   },
   "outputs": [],
   "source": [
    "print(sum(treetest[treetest.ScheddName == 11].isboth)/len(treetest[treetest.ScheddName == 11].isboth))\n",
    "print(len(treetest[treetest.ScheddName == 11].isboth))\n",
    "print(len(treetest[treetest.isboth == 0]))"
   ]
  },
  {
   "cell_type": "code",
   "execution_count": null,
   "metadata": {
    "ExecuteTime": {
     "end_time": "2019-09-24T18:43:02.210488Z",
     "start_time": "2019-09-24T18:42:21.311Z"
    }
   },
   "outputs": [],
   "source": [
    "for i in goodads.ScheddName.unique():\n",
    "    print(i)\n",
    "    print(sum(goodads[goodads.ScheddName == i].isboth)/len(goodads[goodads.ScheddName == i]))\n",
    "    print(len(goodads[goodads.ScheddName == i]))"
   ]
  },
  {
   "cell_type": "code",
   "execution_count": null,
   "metadata": {
    "ExecuteTime": {
     "end_time": "2019-09-24T18:43:02.213060Z",
     "start_time": "2019-09-24T18:42:21.314Z"
    }
   },
   "outputs": [],
   "source": [
    "print(np.mean(pd.to_numeric(goodads[goodads.isboth == 1].RecordTime))-np.mean(pd.to_numeric(goodads[goodads.isboth == 0].RecordTime)))\n",
    "print(np.std(pd.to_numeric(goodads[goodads.isboth == 1].RecordTime)))\n",
    "print(np.mean(pd.to_numeric(goodads[goodads.isboth == 0].RecordTime)))\n",
    "print(np.std(pd.to_numeric(goodads[goodads.isboth == 0].RecordTime)))\n",
    "print(np.mean(pd.to_numeric(goodads[goodads.isboth == 1].WallClockHr)))\n",
    "print(np.std(pd.to_numeric(goodads[goodads.isboth == 1].WallClockHr)))\n",
    "print(np.mean(pd.to_numeric(goodads[goodads.isboth == 0].WallClockHr)))\n",
    "print(np.std(pd.to_numeric(goodads[goodads.isboth == 0].WallClockHr)))"
   ]
  },
  {
   "cell_type": "code",
   "execution_count": null,
   "metadata": {
    "ExecuteTime": {
     "end_time": "2019-09-24T18:43:02.215682Z",
     "start_time": "2019-09-24T18:42:21.317Z"
    },
    "scrolled": true
   },
   "outputs": [],
   "source": [
    "newx1 = treetest[treetest.day == 1551398400.0][predictors]\n",
    "newy1 = treetest[treetest.day == 1551398400.0][target]\n",
    "y1_test = model.predict(newx1)\n",
    "\n",
    "#shifted later so that fwjr appears far more later in time\n",
    "newx5 = treetest[treetest.day == 1551744000.0][predictors]\n",
    "newy5 = treetest[treetest.day == 1551744000.0][target]\n",
    "y5_test = model.predict(newx5)"
   ]
  },
  {
   "cell_type": "code",
   "execution_count": null,
   "metadata": {
    "ExecuteTime": {
     "end_time": "2019-09-24T18:43:02.218193Z",
     "start_time": "2019-09-24T18:42:21.320Z"
    },
    "scrolled": true
   },
   "outputs": [],
   "source": [
    "#True Negative     False Positive\n",
    "#False Negative    True Positive\n",
    "print(confusion_matrix(newy1,y1_test))"
   ]
  },
  {
   "cell_type": "code",
   "execution_count": null,
   "metadata": {
    "ExecuteTime": {
     "end_time": "2019-09-24T18:43:02.221032Z",
     "start_time": "2019-09-24T18:42:21.323Z"
    }
   },
   "outputs": [],
   "source": [
    "print(len(newy1))\n",
    "print(sum(newy1))\n",
    "print(len(newy5))\n",
    "print(sum(newy5))"
   ]
  },
  {
   "cell_type": "code",
   "execution_count": null,
   "metadata": {
    "ExecuteTime": {
     "end_time": "2019-09-24T18:43:02.224737Z",
     "start_time": "2019-09-24T18:42:21.327Z"
    },
    "scrolled": true
   },
   "outputs": [],
   "source": [
    "print(confusion_matrix(newy1,y1_test))"
   ]
  },
  {
   "cell_type": "code",
   "execution_count": null,
   "metadata": {
    "ExecuteTime": {
     "end_time": "2019-09-24T18:43:02.226689Z",
     "start_time": "2019-09-24T18:42:21.330Z"
    }
   },
   "outputs": [],
   "source": [
    "print(confusion_matrix(newy5,y5_test))#10"
   ]
  },
  {
   "cell_type": "code",
   "execution_count": null,
   "metadata": {
    "ExecuteTime": {
     "end_time": "2019-09-24T18:43:02.228420Z",
     "start_time": "2019-09-24T18:42:21.333Z"
    }
   },
   "outputs": [],
   "source": [
    "confusion_matrix(newy5,y5_test)[0,1]"
   ]
  },
  {
   "cell_type": "code",
   "execution_count": null,
   "metadata": {
    "ExecuteTime": {
     "end_time": "2019-09-24T18:43:02.230535Z",
     "start_time": "2019-09-24T18:42:21.336Z"
    }
   },
   "outputs": [],
   "source": [
    "model.decision_path(newx5)"
   ]
  },
  {
   "cell_type": "code",
   "execution_count": null,
   "metadata": {
    "ExecuteTime": {
     "end_time": "2019-09-24T18:43:02.233271Z",
     "start_time": "2019-09-24T18:42:21.339Z"
    }
   },
   "outputs": [],
   "source": [
    "sum(fwjr[fwjr.day.isin([1551657600])].isboth)/len(fwjr[fwjr.day.isin([1551657600])].isboth)"
   ]
  },
  {
   "cell_type": "code",
   "execution_count": null,
   "metadata": {
    "ExecuteTime": {
     "end_time": "2019-09-24T18:43:02.237708Z",
     "start_time": "2019-09-24T18:42:21.342Z"
    }
   },
   "outputs": [],
   "source": [
    "temp = cleanads\n",
    "cleanads = fwjr[fwjr.day.isin([1551484800, 1551571200, 1551657600, 1551744000])]\n",
    "\n",
    "treetest={}\n",
    "treetest['CRAB_Id'] = LabelEncoder().fit_transform(cleanads['CRAB_Id'])\n",
    "for p in cleanads:\n",
    "    if type(cleanads[p].loc[1]) is not str:   \n",
    "        treetest[p] = cleanads[p]\n",
    "        continue\n",
    "    if (cleanads[p].nunique()/len(cleanads[p])>.8):\n",
    "        continue\n",
    "    if p == 'CRAB_Id':\n",
    "        continue\n",
    "    else:\n",
    "        treetest[p] = LabelEncoder().fit_transform(cleanads[p])\n",
    "cleanads = temp\n",
    "pd.DataFrame(treetest).day.unique()\n"
   ]
  },
  {
   "cell_type": "code",
   "execution_count": null,
   "metadata": {
    "ExecuteTime": {
     "end_time": "2019-09-24T18:43:02.239207Z",
     "start_time": "2019-09-24T18:42:21.346Z"
    }
   },
   "outputs": [],
   "source": [
    "treetest = pd.DataFrame(treetest)\n",
    "midtest = treetest[treetest.day != 1551657600]\n",
    "midtest = midtest[midtest.day != 1551571200]\n",
    "\n",
    "\n",
    "target = 'isboth'\n",
    "predictors = []\n",
    "for i in [*treetest]:\n",
    "    if i == target or i == 'day':\n",
    "        continue\n",
    "    if type(treetest[i].loc[1]) is str:   \n",
    "        continue\n",
    "    predictors.append(i)\n",
    "    \n",
    "# defining predictors\n",
    "X = midtest[predictors]\n",
    "\n",
    "# definig the target variable and mapping it to 1 if in fwjr and 0 otherwise\n",
    "y = midtest[target]\n",
    "\n",
    "# instantiating the model\n",
    "tree = DecisionTreeClassifier(max_depth = 6, min_samples_leaf=90) \n",
    "\n",
    "# fitting the model\n",
    "model = tree.fit(X,y)\n",
    "print('done')"
   ]
  },
  {
   "cell_type": "code",
   "execution_count": null,
   "metadata": {
    "ExecuteTime": {
     "end_time": "2019-09-24T18:43:02.240780Z",
     "start_time": "2019-09-24T18:42:21.349Z"
    }
   },
   "outputs": [],
   "source": [
    "dot_data = StringIO()  \n",
    "\n",
    "export_graphviz(\n",
    "    model, \n",
    "    out_file = dot_data,  \n",
    "    filled=True, rounded=True, proportion=False,\n",
    "    special_characters=True, \n",
    "    feature_names=X.columns,\n",
    "    class_names=[\"Only Classads\", \"Both\"]\n",
    ")  \n",
    "\n",
    "graph = pydotplus.graph_from_dot_data(dot_data.getvalue())  \n",
    "\n",
    "Image(graph.create_png())"
   ]
  },
  {
   "cell_type": "code",
   "execution_count": null,
   "metadata": {
    "ExecuteTime": {
     "end_time": "2019-09-24T18:43:02.242469Z",
     "start_time": "2019-09-24T18:42:21.352Z"
    }
   },
   "outputs": [],
   "source": [
    "from sklearn.linear_model import LogisticRegression\n",
    "from sklearn import datasets\n",
    "\n",
    "logreg = LogisticRegression(C=1e5, solver='lbfgs', multi_class='multinomial')\n",
    "\n",
    "# Create an instance of Logistic Regression Classifier and fit the data.\n",
    "logreg.fit(X, y)\n",
    "\n",
    "# Plot the decision boundary. For that, we will assign a color to each\n",
    "# point in the mesh [x_min, x_max]x[y_min, y_max].\n",
    "x_min, x_max = X[:, 0].min() - .5, X[:, 0].max() + .5\n",
    "y_min, y_max = X[:, 1].min() - .5, X[:, 1].max() + .5\n",
    "h = .02  # step size in the mesh\n",
    "xx, yy = np.meshgrid(np.arange(x_min, x_max, h), np.arange(y_min, y_max, h))\n",
    "Z = logreg.predict(np.c_[xx.ravel(), yy.ravel()])\n",
    "\n",
    "# Put the result into a color plot\n",
    "Z = Z.reshape(xx.shape)\n",
    "plt.figure(1, figsize=(4, 3))\n",
    "plt.pcolormesh(xx, yy, Z, cmap=plt.cm.Paired)\n",
    "\n",
    "# Plot also the training points\n",
    "plt.scatter(X[:, 0], X[:, 1], c=Y, edgecolors='k', cmap=plt.cm.Paired)\n",
    "plt.xlabel('Sepal length')\n",
    "plt.ylabel('Sepal width')\n",
    "\n",
    "plt.xlim(xx.min(), xx.max())\n",
    "plt.ylim(yy.min(), yy.max())\n",
    "plt.xticks(())\n",
    "plt.yticks(())\n",
    "\n",
    "plt.show()"
   ]
  },
  {
   "cell_type": "code",
   "execution_count": null,
   "metadata": {
    "ExecuteTime": {
     "end_time": "2019-09-24T18:43:02.244124Z",
     "start_time": "2019-09-24T18:42:21.355Z"
    },
    "scrolled": true
   },
   "outputs": [],
   "source": [
    "this will give me a warning"
   ]
  },
  {
   "cell_type": "code",
   "execution_count": null,
   "metadata": {
    "ExecuteTime": {
     "end_time": "2019-09-24T18:43:02.246044Z",
     "start_time": "2019-09-24T18:42:21.358Z"
    }
   },
   "outputs": [],
   "source": [
    "# defining predictors\n",
    "X = midtest[predictors]\n",
    "\n",
    "# definig the target variable and mapping it to 1 if in fwjr and 0 otherwise\n",
    "y = midtest[target]\n",
    "\n",
    "# instantiating the model\n",
    "false_positive = []\n",
    "false_negative = []\n",
    "true_positive = []\n",
    "true_negative = []\n",
    "for i in range(1,30):\n",
    "    tree = DecisionTreeClassifier(max_depth = i, min_samples_leaf=90) \n",
    "    model = tree.fit(X,y)\n",
    "    newx5 = treetest[treetest.day == 1551744000.0][predictors]\n",
    "    newy5 = treetest[treetest.day == 1551744000.0][target]\n",
    "    y5_test = model.predict(newx5)\n",
    "    false_positive.append(confusion_matrix(newy5,y5_test)[0,1])\n",
    "    false_negative.append(confusion_matrix(newy5,y5_test)[1,0])\n",
    "    true_positive.append(confusion_matrix(newy5,y5_test)[1,1])\n",
    "    true_negative.append(confusion_matrix(newy5,y5_test)[0,0])"
   ]
  },
  {
   "cell_type": "code",
   "execution_count": null,
   "metadata": {
    "ExecuteTime": {
     "end_time": "2019-09-24T18:43:02.250642Z",
     "start_time": "2019-09-24T18:42:21.361Z"
    },
    "scrolled": true
   },
   "outputs": [],
   "source": [
    "plt.plot(false_negative,'b')\n",
    "plt.plot(false_positive,'y')\n",
    "plt.plot(true_positive,'g')\n",
    "plt.plot(true_negative,'r')\n",
    "plt.show()"
   ]
  },
  {
   "cell_type": "code",
   "execution_count": null,
   "metadata": {
    "ExecuteTime": {
     "end_time": "2019-09-24T18:43:02.254213Z",
     "start_time": "2019-09-24T18:42:21.364Z"
    }
   },
   "outputs": [],
   "source": [
    "plt.plot(false_negative)\n",
    "plt.plot(false_positive)\n",
    "plt.plot(true_positive,'g')\n",
    "plt.plot(true_negative,'r')\n",
    "plt.show()"
   ]
  },
  {
   "cell_type": "code",
   "execution_count": null,
   "metadata": {
    "ExecuteTime": {
     "end_time": "2019-09-24T18:43:02.257616Z",
     "start_time": "2019-09-24T18:42:21.367Z"
    }
   },
   "outputs": [],
   "source": [
    "print(true_positive[45:55])\n",
    "print(false_positive[45:55])\n",
    "print(false_negative[45:55])"
   ]
  },
  {
   "cell_type": "code",
   "execution_count": null,
   "metadata": {
    "ExecuteTime": {
     "end_time": "2019-09-24T18:43:02.261345Z",
     "start_time": "2019-09-24T18:42:21.370Z"
    }
   },
   "outputs": [],
   "source": [
    "\n",
    "print(true_positive[9])\n",
    "print(true_negative[9])\n",
    "print(false_positive[9])\n",
    "print(false_negative[9])"
   ]
  },
  {
   "cell_type": "code",
   "execution_count": null,
   "metadata": {
    "ExecuteTime": {
     "end_time": "2019-09-24T18:43:02.263870Z",
     "start_time": "2019-09-24T18:42:21.373Z"
    },
    "scrolled": true
   },
   "outputs": [],
   "source": [
    "print(true_positive[0:10])\n",
    "print(false_positive[0:10])\n",
    "print(false_negative[0:10])"
   ]
  },
  {
   "cell_type": "code",
   "execution_count": null,
   "metadata": {
    "ExecuteTime": {
     "end_time": "2019-09-24T18:43:02.266726Z",
     "start_time": "2019-09-24T18:42:21.376Z"
    }
   },
   "outputs": [],
   "source": [
    "true_positive[4]"
   ]
  },
  {
   "cell_type": "code",
   "execution_count": null,
   "metadata": {
    "ExecuteTime": {
     "end_time": "2019-09-24T18:43:02.268245Z",
     "start_time": "2019-09-24T18:42:21.379Z"
    }
   },
   "outputs": [],
   "source": [
    "arrx = [1564617600,1564704000,1564790400,1564876800,1564963200,1565049600]\n",
    "arry = []\n",
    "for i in arrx:\n",
    "    arry.append(len(fwjr[fwjr.day == i])-sum(fwjr[fwjr.day == i]['isclassads']))\n",
    "plt.plot(arry)\n",
    "plt.show()"
   ]
  },
  {
   "cell_type": "code",
   "execution_count": null,
   "metadata": {
    "ExecuteTime": {
     "end_time": "2019-09-24T18:43:02.270431Z",
     "start_time": "2019-09-24T18:42:21.382Z"
    }
   },
   "outputs": [],
   "source": [
    "arry"
   ]
  },
  {
   "cell_type": "code",
   "execution_count": null,
   "metadata": {
    "ExecuteTime": {
     "end_time": "2019-09-24T18:43:02.275518Z",
     "start_time": "2019-09-24T18:42:21.385Z"
    }
   },
   "outputs": [],
   "source": [
    "print(len(cleanads[cleanads.isboth == 1]))\n",
    "print(len(cleanads))\n",
    "print(len(cleanads[cleanads.isboth == 1])/len(cleanads))\n",
    "print(len(fwjr))"
   ]
  },
  {
   "cell_type": "code",
   "execution_count": null,
   "metadata": {
    "ExecuteTime": {
     "end_time": "2019-09-24T18:43:02.278995Z",
     "start_time": "2019-09-24T18:42:21.388Z"
    }
   },
   "outputs": [],
   "source": [
    "print(cleanads['day'].unique())"
   ]
  },
  {
   "cell_type": "code",
   "execution_count": null,
   "metadata": {
    "ExecuteTime": {
     "end_time": "2019-09-24T18:43:02.282772Z",
     "start_time": "2019-09-24T18:42:21.391Z"
    }
   },
   "outputs": [],
   "source": [
    "#creates a dictionary to make each string into a number for the classifier\n",
    "#each field will map one value to one number for example:\n",
    "#{'T2_US_UCSD': 9} maps ucsd to 9 and is in the 'CMSSite' field\n",
    "\n",
    "#the dictionary is used with the command df.replace(bigdict)\n",
    "bigdict = {}\n",
    "for i in cleanads:\n",
    "    cleanads[i] = pd.to_numeric(cleanads[i],errors='ignore')\n",
    "cleanads['CRAB_Id'] = pd.to_numeric(cleanads['CRAB_Id'],errors='coerce')\n",
    "\n",
    "for p in cleanads:\n",
    "    if type(cleanads[p].loc[1]) is not str:   \n",
    "        continue\n",
    "    if (len(cleansortedinfo[p])/len(cleanads[p])>.8):\n",
    "        continue\n",
    "    counter = 0\n",
    "    littledict = {}\n",
    "    for i in cleansortedinfo[p]:\n",
    "        littledict.update({i:counter})\n",
    "        counter+=1\n",
    "    bigdict.update({p:littledict})\n",
    "\n",
    "#dictionary can be updated using the following method:    \n",
    "#bigdict.update({'CMSPrimaryPrimaryDataset':{'tester':0}})"
   ]
  },
  {
   "cell_type": "code",
   "execution_count": null,
   "metadata": {
    "ExecuteTime": {
     "end_time": "2019-09-24T18:43:02.285632Z",
     "start_time": "2019-09-24T18:42:21.394Z"
    }
   },
   "outputs": [],
   "source": [
    "semisortedinfo = {}\n",
    "res = defaultdict(list) \n",
    "for p in classads:\n",
    "    res = defaultdict(list) \n",
    "    for key, val in sorted(classads[p].items()): \n",
    "        res[val].append(key)\n",
    "    semisortedinfo.update({p:dict(res)})"
   ]
  },
  {
   "cell_type": "code",
   "execution_count": null,
   "metadata": {
    "ExecuteTime": {
     "end_time": "2019-09-24T18:43:02.291170Z",
     "start_time": "2019-09-24T18:42:21.397Z"
    },
    "scrolled": true
   },
   "outputs": [],
   "source": [
    "datetime.date.fromtimestamp(1564617600.0)"
   ]
  },
  {
   "cell_type": "code",
   "execution_count": null,
   "metadata": {
    "ExecuteTime": {
     "end_time": "2019-09-24T18:43:02.295127Z",
     "start_time": "2019-09-24T18:42:21.401Z"
    }
   },
   "outputs": [],
   "source": [
    "treetest.to_pickle('treetest.pkl')\n",
    "cleanads"
   ]
  }
 ],
 "metadata": {
  "kernelspec": {
   "display_name": "Python 3",
   "language": "python",
   "name": "python3"
  },
  "language_info": {
   "codemirror_mode": {
    "name": "ipython",
    "version": 3
   },
   "file_extension": ".py",
   "mimetype": "text/x-python",
   "name": "python",
   "nbconvert_exporter": "python",
   "pygments_lexer": "ipython3",
   "version": "3.7.1"
  },
  "toc": {
   "base_numbering": 1,
   "nav_menu": {},
   "number_sections": true,
   "sideBar": true,
   "skip_h1_title": false,
   "title_cell": "Table of Contents",
   "title_sidebar": "Contents",
   "toc_cell": false,
   "toc_position": {},
   "toc_section_display": true,
   "toc_window_display": false
  }
 },
 "nbformat": 4,
 "nbformat_minor": 2
}
